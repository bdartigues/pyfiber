{
 "cells": [
  {
   "cell_type": "code",
   "execution_count": 1,
   "id": "2b1bf752",
   "metadata": {},
   "outputs": [
    {
     "name": "stdout",
     "output_type": "stream",
     "text": [
      "C:\\Users\\mceau\\Documents\\fiberphotopy\\fiberphotopy\n"
     ]
    }
   ],
   "source": [
    "%cd \"../fiberphotopy\""
   ]
  },
  {
   "cell_type": "code",
   "execution_count": 2,
   "id": "52398e25",
   "metadata": {},
   "outputs": [],
   "source": [
    "import fiber_data\n",
    "import behavioral_data\n",
    "import fp_utils\n",
    "import analysis\n",
    "import importlib\n",
    "import pandas as pd\n",
    "import numpy as np\n",
    "import matplotlib.pyplot as plt\n",
    "\n",
    "def rel():\n",
    "    for i in [fp_utils,analysis,fiber_data,behavioral_data]:\n",
    "        importlib.reload(i)\n",
    "rel()"
   ]
  },
  {
   "cell_type": "code",
   "execution_count": 3,
   "id": "0b309321",
   "metadata": {
    "scrolled": true
   },
   "outputs": [
    {
     "name": "stdout",
     "output_type": "stream",
     "text": [
      "\n",
      "Importing folder r11...\n",
      "Importing ../../DATA/J44/r11/bsa_rec1_rat1120220401c20_01.dat...\n",
      "Importing of ../../DATA/J44/r11/bsa_rec1_rat1120220401c20_01.dat finished in 0.07495546340942383 seconds\n"
     ]
    },
    {
     "ename": "ValueError",
     "evalue": "Unknown engine: pyarrow (valid options are dict_keys(['c', 'python', 'python-fwf']))",
     "output_type": "error",
     "traceback": [
      "\u001b[1;31m---------------------------------------------------------------------------\u001b[0m",
      "\u001b[1;31mValueError\u001b[0m                                Traceback (most recent call last)",
      "\u001b[1;32m~\\AppData\\Local\\Temp/ipykernel_1912/1790337601.py\u001b[0m in \u001b[0;36m<module>\u001b[1;34m\u001b[0m\n\u001b[1;32m----> 1\u001b[1;33m \u001b[0mvgbz\u001b[0m \u001b[1;33m=\u001b[0m \u001b[0manalysis\u001b[0m\u001b[1;33m.\u001b[0m\u001b[0mMultiSession\u001b[0m\u001b[1;33m(\u001b[0m\u001b[1;34m'../../DATA/J44'\u001b[0m\u001b[1;33m)\u001b[0m\u001b[1;33m\u001b[0m\u001b[1;33m\u001b[0m\u001b[0m\n\u001b[0m",
      "\u001b[1;32m~\\Documents\\fiberphotopy\\fiberphotopy\\analysis.py\u001b[0m in \u001b[0;36m__init__\u001b[1;34m(self, folder, session_list, debug)\u001b[0m\n\u001b[0;32m    229\u001b[0m         \u001b[0mstart\u001b[0m \u001b[1;33m=\u001b[0m \u001b[0mtime\u001b[0m\u001b[1;33m.\u001b[0m\u001b[0mtime\u001b[0m\u001b[1;33m(\u001b[0m\u001b[1;33m)\u001b[0m\u001b[1;33m\u001b[0m\u001b[1;33m\u001b[0m\u001b[0m\n\u001b[0;32m    230\u001b[0m         \u001b[1;32mif\u001b[0m \u001b[0mfolder\u001b[0m\u001b[1;33m:\u001b[0m\u001b[1;33m\u001b[0m\u001b[1;33m\u001b[0m\u001b[0m\n\u001b[1;32m--> 231\u001b[1;33m             \u001b[0mself\u001b[0m\u001b[1;33m.\u001b[0m\u001b[0mrat_sessions\u001b[0m \u001b[1;33m=\u001b[0m \u001b[0mself\u001b[0m\u001b[1;33m.\u001b[0m\u001b[0m_import_folder\u001b[0m\u001b[1;33m(\u001b[0m\u001b[0mfolder\u001b[0m\u001b[1;33m)\u001b[0m\u001b[1;33m\u001b[0m\u001b[1;33m\u001b[0m\u001b[0m\n\u001b[0m\u001b[0;32m    232\u001b[0m         \u001b[1;32melif\u001b[0m \u001b[0msession_list\u001b[0m\u001b[1;33m:\u001b[0m\u001b[1;33m\u001b[0m\u001b[1;33m\u001b[0m\u001b[0m\n\u001b[0;32m    233\u001b[0m             \u001b[0mself\u001b[0m\u001b[1;33m.\u001b[0m\u001b[0mrat_sessions\u001b[0m \u001b[1;33m=\u001b[0m \u001b[0mself\u001b[0m\u001b[1;33m.\u001b[0m\u001b[0m_import_sessions\u001b[0m\u001b[1;33m(\u001b[0m\u001b[0msession_list\u001b[0m\u001b[1;33m)\u001b[0m\u001b[1;33m\u001b[0m\u001b[1;33m\u001b[0m\u001b[0m\n",
      "\u001b[1;32m~\\Documents\\fiberphotopy\\fiberphotopy\\analysis.py\u001b[0m in \u001b[0;36m_import_folder\u001b[1;34m(self, folder)\u001b[0m\n\u001b[0;32m    261\u001b[0m                     \u001b[1;32melif\u001b[0m \u001b[1;34m'.dat'\u001b[0m \u001b[1;32min\u001b[0m \u001b[0mpath\u001b[0m\u001b[1;33m:\u001b[0m\u001b[1;33m\u001b[0m\u001b[1;33m\u001b[0m\u001b[0m\n\u001b[0;32m    262\u001b[0m                         \u001b[0mb\u001b[0m  \u001b[1;33m=\u001b[0m \u001b[0mpath\u001b[0m\u001b[1;33m\u001b[0m\u001b[1;33m\u001b[0m\u001b[0m\n\u001b[1;32m--> 263\u001b[1;33m                 \u001b[0msessions\u001b[0m\u001b[1;33m[\u001b[0m\u001b[0mr\u001b[0m\u001b[1;33m]\u001b[0m \u001b[1;33m=\u001b[0m \u001b[0mRatSession\u001b[0m\u001b[1;33m(\u001b[0m\u001b[0mbehavior\u001b[0m\u001b[1;33m=\u001b[0m\u001b[0mb\u001b[0m \u001b[1;33m,\u001b[0m\u001b[0mfiber\u001b[0m\u001b[1;33m=\u001b[0m\u001b[0mf\u001b[0m\u001b[1;33m)\u001b[0m\u001b[1;33m\u001b[0m\u001b[1;33m\u001b[0m\u001b[0m\n\u001b[0m\u001b[0;32m    264\u001b[0m             \u001b[1;32mreturn\u001b[0m \u001b[0msessions\u001b[0m\u001b[1;33m\u001b[0m\u001b[1;33m\u001b[0m\u001b[0m\n\u001b[0;32m    265\u001b[0m \u001b[1;33m\u001b[0m\u001b[0m\n",
      "\u001b[1;32m~\\Documents\\fiberphotopy\\fiberphotopy\\analysis.py\u001b[0m in \u001b[0;36m__init__\u001b[1;34m(self, behavior, fiber, rat_ID, **kwargs)\u001b[0m\n\u001b[0;32m     30\u001b[0m                 \u001b[0mself\u001b[0m\u001b[1;33m.\u001b[0m\u001b[0mfiber\u001b[0m \u001b[1;33m=\u001b[0m \u001b[0mfiber_data\u001b[0m\u001b[1;33m.\u001b[0m\u001b[0mFiberData\u001b[0m\u001b[1;33m(\u001b[0m\u001b[0mfiber\u001b[0m\u001b[1;33m.\u001b[0m\u001b[0mfilepath\u001b[0m\u001b[1;33m,\u001b[0m\u001b[0malignement\u001b[0m\u001b[1;33m=\u001b[0m\u001b[0mself\u001b[0m\u001b[1;33m.\u001b[0m\u001b[0mbehavior\u001b[0m\u001b[1;33m.\u001b[0m\u001b[0mrec_start\u001b[0m\u001b[1;33m,\u001b[0m\u001b[0mautoinherit\u001b[0m\u001b[1;33m=\u001b[0m\u001b[0mheritage\u001b[0m\u001b[1;33m)\u001b[0m\u001b[1;33m\u001b[0m\u001b[1;33m\u001b[0m\u001b[0m\n\u001b[0;32m     31\u001b[0m         \u001b[1;32melse\u001b[0m\u001b[1;33m:\u001b[0m\u001b[1;33m\u001b[0m\u001b[1;33m\u001b[0m\u001b[0m\n\u001b[1;32m---> 32\u001b[1;33m             \u001b[0mself\u001b[0m\u001b[1;33m.\u001b[0m\u001b[0mfiber\u001b[0m \u001b[1;33m=\u001b[0m \u001b[0mfiber_data\u001b[0m\u001b[1;33m.\u001b[0m\u001b[0mFiberData\u001b[0m\u001b[1;33m(\u001b[0m\u001b[0mfiber\u001b[0m\u001b[1;33m,\u001b[0m\u001b[0malignement\u001b[0m\u001b[1;33m=\u001b[0m\u001b[0mself\u001b[0m\u001b[1;33m.\u001b[0m\u001b[0mbehavior\u001b[0m\u001b[1;33m.\u001b[0m\u001b[0mrec_start\u001b[0m\u001b[1;33m,\u001b[0m\u001b[0mautoinherit\u001b[0m\u001b[1;33m=\u001b[0m\u001b[0mheritage\u001b[0m\u001b[1;33m)\u001b[0m\u001b[1;33m\u001b[0m\u001b[1;33m\u001b[0m\u001b[0m\n\u001b[0m\u001b[0;32m     33\u001b[0m         \u001b[0mself\u001b[0m\u001b[1;33m.\u001b[0m\u001b[0manalyses\u001b[0m \u001b[1;33m=\u001b[0m \u001b[1;33m{\u001b[0m\u001b[1;33m}\u001b[0m\u001b[1;33m\u001b[0m\u001b[1;33m\u001b[0m\u001b[0m\n\u001b[0;32m     34\u001b[0m \u001b[1;33m\u001b[0m\u001b[0m\n",
      "\u001b[1;32m~\\Documents\\fiberphotopy\\fiberphotopy\\fiber_data.py\u001b[0m in \u001b[0;36m__init__\u001b[1;34m(self, filepath, name, rat_ID, alignement, autoinherit, **kwargs)\u001b[0m\n\u001b[0;32m     40\u001b[0m         \u001b[0mself\u001b[0m\u001b[1;33m.\u001b[0m\u001b[0mnumber_of_recording\u001b[0m \u001b[1;33m=\u001b[0m \u001b[1;36m0\u001b[0m\u001b[1;33m\u001b[0m\u001b[1;33m\u001b[0m\u001b[0m\n\u001b[0;32m     41\u001b[0m         \u001b[1;31m#part2 = timer(part1,'adding names')\u001b[0m\u001b[1;33m\u001b[0m\u001b[1;33m\u001b[0m\u001b[0m\n\u001b[1;32m---> 42\u001b[1;33m         \u001b[0mself\u001b[0m\u001b[1;33m.\u001b[0m\u001b[0mdf\u001b[0m \u001b[1;33m=\u001b[0m \u001b[0mself\u001b[0m\u001b[1;33m.\u001b[0m\u001b[0m_read_file\u001b[0m\u001b[1;33m(\u001b[0m\u001b[0mfilepath\u001b[0m\u001b[1;33m,\u001b[0m\u001b[0malignement\u001b[0m\u001b[1;33m=\u001b[0m\u001b[0malignement\u001b[0m\u001b[1;33m)\u001b[0m\u001b[1;33m\u001b[0m\u001b[1;33m\u001b[0m\u001b[0m\n\u001b[0m\u001b[0;32m     43\u001b[0m         \u001b[1;31m#part3 = timer(part2,'reading df')\u001b[0m\u001b[1;33m\u001b[0m\u001b[1;33m\u001b[0m\u001b[0m\n\u001b[0;32m     44\u001b[0m         \u001b[0mself\u001b[0m\u001b[1;33m.\u001b[0m\u001b[0mfull_time\u001b[0m \u001b[1;33m=\u001b[0m \u001b[0mnp\u001b[0m\u001b[1;33m.\u001b[0m\u001b[0marray\u001b[0m\u001b[1;33m(\u001b[0m\u001b[0mself\u001b[0m\u001b[1;33m.\u001b[0m\u001b[0mdf\u001b[0m\u001b[1;33m[\u001b[0m\u001b[1;34m'Time(s)'\u001b[0m\u001b[1;33m]\u001b[0m\u001b[1;33m)\u001b[0m\u001b[1;33m\u001b[0m\u001b[1;33m\u001b[0m\u001b[0m\n",
      "\u001b[1;32m~\\Documents\\fiberphotopy\\fiberphotopy\\fiber_data.py\u001b[0m in \u001b[0;36m_read_file\u001b[1;34m(self, filepath, alignement)\u001b[0m\n\u001b[0;32m     84\u001b[0m     \u001b[1;32mdef\u001b[0m \u001b[0m_read_file\u001b[0m\u001b[1;33m(\u001b[0m\u001b[0mself\u001b[0m\u001b[1;33m,\u001b[0m\u001b[0mfilepath\u001b[0m\u001b[1;33m,\u001b[0m\u001b[0malignement\u001b[0m\u001b[1;33m=\u001b[0m\u001b[1;36m0\u001b[0m\u001b[1;33m)\u001b[0m\u001b[1;33m:\u001b[0m\u001b[1;33m\u001b[0m\u001b[1;33m\u001b[0m\u001b[0m\n\u001b[0;32m     85\u001b[0m         \u001b[1;34m\"\"\"Read file and convert in the desired unit if needed.\"\"\"\u001b[0m\u001b[1;33m\u001b[0m\u001b[1;33m\u001b[0m\u001b[0m\n\u001b[1;32m---> 86\u001b[1;33m         \u001b[0mdf\u001b[0m \u001b[1;33m=\u001b[0m \u001b[0mpd\u001b[0m\u001b[1;33m.\u001b[0m\u001b[0mread_csv\u001b[0m\u001b[1;33m(\u001b[0m\u001b[0mfilepath\u001b[0m\u001b[1;33m,\u001b[0m\u001b[0mengine\u001b[0m\u001b[1;33m=\u001b[0m\u001b[1;34m'pyarrow'\u001b[0m\u001b[1;33m)\u001b[0m\u001b[1;33m\u001b[0m\u001b[1;33m\u001b[0m\u001b[0m\n\u001b[0m\u001b[0;32m     87\u001b[0m         \u001b[1;32mif\u001b[0m \u001b[0mself\u001b[0m\u001b[1;33m.\u001b[0m\u001b[0mfile_unit\u001b[0m \u001b[1;32mand\u001b[0m \u001b[0mself\u001b[0m\u001b[1;33m.\u001b[0m\u001b[0muser_unit\u001b[0m\u001b[1;33m:\u001b[0m\u001b[1;33m\u001b[0m\u001b[1;33m\u001b[0m\u001b[0m\n\u001b[0;32m     88\u001b[0m             \u001b[1;32mif\u001b[0m \u001b[0mself\u001b[0m\u001b[1;33m.\u001b[0m\u001b[0mfile_unit\u001b[0m \u001b[1;33m==\u001b[0m \u001b[0mself\u001b[0m\u001b[1;33m.\u001b[0m\u001b[0muser_unit\u001b[0m\u001b[1;33m:\u001b[0m\u001b[1;33m\u001b[0m\u001b[1;33m\u001b[0m\u001b[0m\n",
      "\u001b[1;32m~\\Anaconda3\\lib\\site-packages\\pandas\\util\\_decorators.py\u001b[0m in \u001b[0;36mwrapper\u001b[1;34m(*args, **kwargs)\u001b[0m\n\u001b[0;32m    309\u001b[0m                     \u001b[0mstacklevel\u001b[0m\u001b[1;33m=\u001b[0m\u001b[0mstacklevel\u001b[0m\u001b[1;33m,\u001b[0m\u001b[1;33m\u001b[0m\u001b[1;33m\u001b[0m\u001b[0m\n\u001b[0;32m    310\u001b[0m                 )\n\u001b[1;32m--> 311\u001b[1;33m             \u001b[1;32mreturn\u001b[0m \u001b[0mfunc\u001b[0m\u001b[1;33m(\u001b[0m\u001b[1;33m*\u001b[0m\u001b[0margs\u001b[0m\u001b[1;33m,\u001b[0m \u001b[1;33m**\u001b[0m\u001b[0mkwargs\u001b[0m\u001b[1;33m)\u001b[0m\u001b[1;33m\u001b[0m\u001b[1;33m\u001b[0m\u001b[0m\n\u001b[0m\u001b[0;32m    312\u001b[0m \u001b[1;33m\u001b[0m\u001b[0m\n\u001b[0;32m    313\u001b[0m         \u001b[1;32mreturn\u001b[0m \u001b[0mwrapper\u001b[0m\u001b[1;33m\u001b[0m\u001b[1;33m\u001b[0m\u001b[0m\n",
      "\u001b[1;32m~\\Anaconda3\\lib\\site-packages\\pandas\\io\\parsers\\readers.py\u001b[0m in \u001b[0;36mread_csv\u001b[1;34m(filepath_or_buffer, sep, delimiter, header, names, index_col, usecols, squeeze, prefix, mangle_dupe_cols, dtype, engine, converters, true_values, false_values, skipinitialspace, skiprows, skipfooter, nrows, na_values, keep_default_na, na_filter, verbose, skip_blank_lines, parse_dates, infer_datetime_format, keep_date_col, date_parser, dayfirst, cache_dates, iterator, chunksize, compression, thousands, decimal, lineterminator, quotechar, quoting, doublequote, escapechar, comment, encoding, encoding_errors, dialect, error_bad_lines, warn_bad_lines, on_bad_lines, delim_whitespace, low_memory, memory_map, float_precision, storage_options)\u001b[0m\n\u001b[0;32m    584\u001b[0m     \u001b[0mkwds\u001b[0m\u001b[1;33m.\u001b[0m\u001b[0mupdate\u001b[0m\u001b[1;33m(\u001b[0m\u001b[0mkwds_defaults\u001b[0m\u001b[1;33m)\u001b[0m\u001b[1;33m\u001b[0m\u001b[1;33m\u001b[0m\u001b[0m\n\u001b[0;32m    585\u001b[0m \u001b[1;33m\u001b[0m\u001b[0m\n\u001b[1;32m--> 586\u001b[1;33m     \u001b[1;32mreturn\u001b[0m \u001b[0m_read\u001b[0m\u001b[1;33m(\u001b[0m\u001b[0mfilepath_or_buffer\u001b[0m\u001b[1;33m,\u001b[0m \u001b[0mkwds\u001b[0m\u001b[1;33m)\u001b[0m\u001b[1;33m\u001b[0m\u001b[1;33m\u001b[0m\u001b[0m\n\u001b[0m\u001b[0;32m    587\u001b[0m \u001b[1;33m\u001b[0m\u001b[0m\n\u001b[0;32m    588\u001b[0m \u001b[1;33m\u001b[0m\u001b[0m\n",
      "\u001b[1;32m~\\Anaconda3\\lib\\site-packages\\pandas\\io\\parsers\\readers.py\u001b[0m in \u001b[0;36m_read\u001b[1;34m(filepath_or_buffer, kwds)\u001b[0m\n\u001b[0;32m    480\u001b[0m \u001b[1;33m\u001b[0m\u001b[0m\n\u001b[0;32m    481\u001b[0m     \u001b[1;31m# Create the parser.\u001b[0m\u001b[1;33m\u001b[0m\u001b[1;33m\u001b[0m\u001b[0m\n\u001b[1;32m--> 482\u001b[1;33m     \u001b[0mparser\u001b[0m \u001b[1;33m=\u001b[0m \u001b[0mTextFileReader\u001b[0m\u001b[1;33m(\u001b[0m\u001b[0mfilepath_or_buffer\u001b[0m\u001b[1;33m,\u001b[0m \u001b[1;33m**\u001b[0m\u001b[0mkwds\u001b[0m\u001b[1;33m)\u001b[0m\u001b[1;33m\u001b[0m\u001b[1;33m\u001b[0m\u001b[0m\n\u001b[0m\u001b[0;32m    483\u001b[0m \u001b[1;33m\u001b[0m\u001b[0m\n\u001b[0;32m    484\u001b[0m     \u001b[1;32mif\u001b[0m \u001b[0mchunksize\u001b[0m \u001b[1;32mor\u001b[0m \u001b[0miterator\u001b[0m\u001b[1;33m:\u001b[0m\u001b[1;33m\u001b[0m\u001b[1;33m\u001b[0m\u001b[0m\n",
      "\u001b[1;32m~\\Anaconda3\\lib\\site-packages\\pandas\\io\\parsers\\readers.py\u001b[0m in \u001b[0;36m__init__\u001b[1;34m(self, f, engine, **kwds)\u001b[0m\n\u001b[0;32m    809\u001b[0m             \u001b[0mself\u001b[0m\u001b[1;33m.\u001b[0m\u001b[0moptions\u001b[0m\u001b[1;33m[\u001b[0m\u001b[1;34m\"has_index_names\"\u001b[0m\u001b[1;33m]\u001b[0m \u001b[1;33m=\u001b[0m \u001b[0mkwds\u001b[0m\u001b[1;33m[\u001b[0m\u001b[1;34m\"has_index_names\"\u001b[0m\u001b[1;33m]\u001b[0m\u001b[1;33m\u001b[0m\u001b[1;33m\u001b[0m\u001b[0m\n\u001b[0;32m    810\u001b[0m \u001b[1;33m\u001b[0m\u001b[0m\n\u001b[1;32m--> 811\u001b[1;33m         \u001b[0mself\u001b[0m\u001b[1;33m.\u001b[0m\u001b[0m_engine\u001b[0m \u001b[1;33m=\u001b[0m \u001b[0mself\u001b[0m\u001b[1;33m.\u001b[0m\u001b[0m_make_engine\u001b[0m\u001b[1;33m(\u001b[0m\u001b[0mself\u001b[0m\u001b[1;33m.\u001b[0m\u001b[0mengine\u001b[0m\u001b[1;33m)\u001b[0m\u001b[1;33m\u001b[0m\u001b[1;33m\u001b[0m\u001b[0m\n\u001b[0m\u001b[0;32m    812\u001b[0m \u001b[1;33m\u001b[0m\u001b[0m\n\u001b[0;32m    813\u001b[0m     \u001b[1;32mdef\u001b[0m \u001b[0mclose\u001b[0m\u001b[1;33m(\u001b[0m\u001b[0mself\u001b[0m\u001b[1;33m)\u001b[0m\u001b[1;33m:\u001b[0m\u001b[1;33m\u001b[0m\u001b[1;33m\u001b[0m\u001b[0m\n",
      "\u001b[1;32m~\\Anaconda3\\lib\\site-packages\\pandas\\io\\parsers\\readers.py\u001b[0m in \u001b[0;36m_make_engine\u001b[1;34m(self, engine)\u001b[0m\n\u001b[0;32m   1034\u001b[0m         }\n\u001b[0;32m   1035\u001b[0m         \u001b[1;32mif\u001b[0m \u001b[0mengine\u001b[0m \u001b[1;32mnot\u001b[0m \u001b[1;32min\u001b[0m \u001b[0mmapping\u001b[0m\u001b[1;33m:\u001b[0m\u001b[1;33m\u001b[0m\u001b[1;33m\u001b[0m\u001b[0m\n\u001b[1;32m-> 1036\u001b[1;33m             raise ValueError(\n\u001b[0m\u001b[0;32m   1037\u001b[0m                 \u001b[1;34mf\"Unknown engine: {engine} (valid options are {mapping.keys()})\"\u001b[0m\u001b[1;33m\u001b[0m\u001b[1;33m\u001b[0m\u001b[0m\n\u001b[0;32m   1038\u001b[0m             )\n",
      "\u001b[1;31mValueError\u001b[0m: Unknown engine: pyarrow (valid options are dict_keys(['c', 'python', 'python-fwf']))"
     ]
    }
   ],
   "source": [
    "vgbz = analysis.MultiSession('../../DATA/J44')"
   ]
  },
  {
   "cell_type": "markdown",
   "id": "d027a963",
   "metadata": {},
   "source": [
    "# BEHAVIOR"
   ]
  },
  {
   "cell_type": "markdown",
   "id": "ae8f3d02",
   "metadata": {},
   "source": [
    "## SUMMARY"
   ]
  },
  {
   "cell_type": "markdown",
   "id": "c92f45a3",
   "metadata": {},
   "source": [
    "### VGB 11"
   ]
  },
  {
   "cell_type": "code",
   "execution_count": null,
   "id": "77bbcd66",
   "metadata": {},
   "outputs": [],
   "source": [
    "vgbz.rat_sessions['r11'].behavior.HLED_ON"
   ]
  },
  {
   "cell_type": "code",
   "execution_count": null,
   "id": "d5538c11",
   "metadata": {},
   "outputs": [],
   "source": [
    "vgbz.rat_sessions['r11'].behavior.summary()"
   ]
  },
  {
   "cell_type": "markdown",
   "id": "526142c1",
   "metadata": {},
   "source": [
    "### VGB 5"
   ]
  },
  {
   "cell_type": "code",
   "execution_count": null,
   "id": "cb7e90f1",
   "metadata": {},
   "outputs": [],
   "source": [
    "vgbz.rat_sessions['r5'].behavior.summary()"
   ]
  },
  {
   "cell_type": "markdown",
   "id": "24437187",
   "metadata": {},
   "source": [
    "### VGB 12"
   ]
  },
  {
   "cell_type": "code",
   "execution_count": null,
   "id": "9d838bc0",
   "metadata": {},
   "outputs": [],
   "source": [
    "vgbz.rat_sessions['r12'].behavior.summary()"
   ]
  },
  {
   "cell_type": "markdown",
   "id": "7b84d25d",
   "metadata": {},
   "source": [
    "## ACTIVE NOSEPOKES"
   ]
  },
  {
   "cell_type": "code",
   "execution_count": null,
   "id": "ac1b884c",
   "metadata": {
    "scrolled": false
   },
   "outputs": [],
   "source": [
    "vgbz.compare_behavior('np1')"
   ]
  },
  {
   "cell_type": "code",
   "execution_count": null,
   "id": "d0d56286",
   "metadata": {},
   "outputs": [],
   "source": [
    "vgbz.multibehavior.show_rate('np1',binsize=60,percentiles=False) # NPA/min"
   ]
  },
  {
   "cell_type": "markdown",
   "id": "3cad7e9c",
   "metadata": {},
   "source": [
    "## INACTIVE NOSEPOKES"
   ]
  },
  {
   "cell_type": "code",
   "execution_count": null,
   "id": "54433ee4",
   "metadata": {
    "scrolled": false
   },
   "outputs": [],
   "source": [
    "vgbz.compare_behavior('np2')"
   ]
  },
  {
   "cell_type": "code",
   "execution_count": null,
   "id": "78f2c11b",
   "metadata": {},
   "outputs": [],
   "source": [
    "vgbz.multibehavior.show_rate('np2',binsize=60,percentiles=False) # NPB/min"
   ]
  },
  {
   "cell_type": "markdown",
   "id": "2e05fec4",
   "metadata": {},
   "source": [
    "## INJECTIONS"
   ]
  },
  {
   "cell_type": "code",
   "execution_count": null,
   "id": "a1a9a657",
   "metadata": {
    "scrolled": false
   },
   "outputs": [],
   "source": [
    "vgbz.compare_behavior('inj1')"
   ]
  },
  {
   "cell_type": "code",
   "execution_count": null,
   "id": "0f6ab5f0",
   "metadata": {},
   "outputs": [],
   "source": [
    "vgbz.multibehavior.show_rate('inj1',binsize=300,percentiles=False) # inj/5min"
   ]
  },
  {
   "cell_type": "markdown",
   "id": "7cbfd622",
   "metadata": {},
   "source": [
    "# PERIEVENT"
   ]
  },
  {
   "cell_type": "markdown",
   "id": "b8f8d51f",
   "metadata": {},
   "source": [
    "## SWITCH DRUG TO NO DRUG"
   ]
  },
  {
   "cell_type": "code",
   "execution_count": null,
   "id": "dbe041ae",
   "metadata": {
    "scrolled": false
   },
   "outputs": [],
   "source": [
    "fifo = vgbz.analyze([\"switch_d_nd\",\"switch_to_nd\"])\n",
    "fifo.plot(alpha=0.8,label=True)"
   ]
  },
  {
   "cell_type": "code",
   "execution_count": null,
   "id": "9ca4ced7",
   "metadata": {},
   "outputs": [],
   "source": [
    "pd.DataFrame({key: fifo.__dict__[key] for key in ['preAVG_Z', 'postAVG_Z', 'preAVG_RZ', 'postAVG_RZ', 'pre_raw_AUC', 'post_raw_AUC', 'preAUC', 'postAUC', 'preZ_AUC', 'postZ_AUC', 'preRZ_AUC', 'postRZ_AUC']},\n",
    "index = fifo.__dict__['rat_sessions'])"
   ]
  },
  {
   "cell_type": "markdown",
   "id": "cac84687",
   "metadata": {},
   "source": [
    "# PEAKS"
   ]
  },
  {
   "cell_type": "code",
   "execution_count": null,
   "id": "3bacebf5",
   "metadata": {
    "scrolled": true
   },
   "outputs": [],
   "source": [
    "rats = ['r11','r5','r12']\n",
    "df = pd.concat([pd.DataFrame({k:pd.Series(v) for k,v in vgbz.rat_sessions[r].fiber.peakFA(2350,3295).items() if type(v)==float}) for r in rats])\n",
    "df.index = rats\n",
    "df"
   ]
  },
  {
   "cell_type": "markdown",
   "id": "a982e9be",
   "metadata": {},
   "source": [
    "### VGB11 : all detected peaks"
   ]
  },
  {
   "cell_type": "code",
   "execution_count": null,
   "id": "961ec639",
   "metadata": {},
   "outputs": [],
   "source": [
    "vgbz.rat_sessions['r11'].fiber.plot_transients()\n",
    "plt.ylim((0,7))"
   ]
  },
  {
   "cell_type": "markdown",
   "id": "2197d105",
   "metadata": {},
   "source": [
    "### VGB5 : all detected peaks"
   ]
  },
  {
   "cell_type": "code",
   "execution_count": null,
   "id": "c2011b80",
   "metadata": {},
   "outputs": [],
   "source": [
    "vgbz.rat_sessions['r5'].fiber.plot_transients()\n",
    "plt.ylim((0,7))"
   ]
  },
  {
   "cell_type": "markdown",
   "id": "8cd8e600",
   "metadata": {},
   "source": [
    "### VGB12 : all detected peaks"
   ]
  },
  {
   "cell_type": "code",
   "execution_count": null,
   "id": "b0ec5a28",
   "metadata": {},
   "outputs": [],
   "source": [
    "vgbz.rat_sessions['r12'].fiber.plot_transients()\n",
    "plt.ylim((0,7))"
   ]
  },
  {
   "cell_type": "code",
   "execution_count": null,
   "id": "1194caca",
   "metadata": {},
   "outputs": [],
   "source": []
  }
 ],
 "metadata": {
  "kernelspec": {
   "display_name": "Python 3 (ipykernel)",
   "language": "python",
   "name": "python3"
  },
  "language_info": {
   "codemirror_mode": {
    "name": "ipython",
    "version": 3
   },
   "file_extension": ".py",
   "mimetype": "text/x-python",
   "name": "python",
   "nbconvert_exporter": "python",
   "pygments_lexer": "ipython3",
   "version": "3.9.7"
  }
 },
 "nbformat": 4,
 "nbformat_minor": 5
}
