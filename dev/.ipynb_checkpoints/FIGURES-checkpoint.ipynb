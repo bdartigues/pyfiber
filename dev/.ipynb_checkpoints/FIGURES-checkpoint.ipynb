{
 "cells": [
  {
   "cell_type": "code",
   "execution_count": 1,
   "id": "b8d1e104",
   "metadata": {},
   "outputs": [
    {
     "name": "stdout",
     "output_type": "stream",
     "text": [
      "C:\\Users\\mceau\\Documents\\fiberphotopy\\fiberphotopy\n"
     ]
    }
   ],
   "source": [
    "%cd ../fiberphotopy/\n",
    "import importlib\n",
    "import numpy as np\n",
    "import pandas as pd\n",
    "import yaml\n",
    "import matplotlib.pyplot as plt\n",
    "import pprint\n",
    "import scipy\n",
    "import time\n",
    "\n",
    "\n",
    "import fp_utils\n",
    "import behavioral_data\n",
    "import fiber_data\n",
    "import analysis\n",
    "\n",
    "def rel():\n",
    "    importlib.reload(behavioral_data)\n",
    "    importlib.reload(fiber_data)\n",
    "    importlib.reload(analysis)\n",
    "    importlib.reload(fp_utils)\n",
    "rel()\n",
    "\n",
    "dataf = '../../DATA/FIGURES/'"
   ]
  },
  {
   "cell_type": "markdown",
   "id": "529c251c",
   "metadata": {},
   "source": [
    "# Behavioral summary"
   ]
  },
  {
   "cell_type": "code",
   "execution_count": 2,
   "id": "7ec30f9a",
   "metadata": {},
   "outputs": [
    {
     "name": "stdout",
     "output_type": "stream",
     "text": [
      "Importing ../../DATA/j36/bsa22032022c20_01.dat...\n",
      "Importing of ../../DATA/j36/bsa22032022c20_01.dat finished in 0.07853817939758301 seconds\n"
     ]
    }
   ],
   "source": [
    "gb11 = behavioral_data.BehavioralData('../../DATA/j36/bsa22032022c20_01.dat')"
   ]
  },
  {
   "cell_type": "code",
   "execution_count": 3,
   "id": "9cdf4f29",
   "metadata": {},
   "outputs": [
    {
     "data": {
      "image/png": "[encoded data removed]",
      "text/plain": [
       "<Figure size 1440x518.4 with 9 Axes>"
      ]
     },
     "metadata": {
      "needs_background": "light"
     },
     "output_type": "display_data"
    }
   ],
   "source": [
    "gb11.summary()"
   ]
  },
  {
   "cell_type": "markdown",
   "id": "8e22bbef",
   "metadata": {},
   "source": [
    "# Data selection"
   ]
  },
  {
   "cell_type": "code",
   "execution_count": null,
   "id": "a3a2c028",
   "metadata": {},
   "outputs": [],
   "source": []
  },
  {
   "cell_type": "markdown",
   "id": "e273b991",
   "metadata": {},
   "source": [
    "# Perievent plotting"
   ]
  },
  {
   "cell_type": "code",
   "execution_count": null,
   "id": "8aed97fa",
   "metadata": {},
   "outputs": [
    {
     "name": "stdout",
     "output_type": "stream",
     "text": [
      "\n",
      "Importing folder rat_10_SA_1...\n",
      "Importing ../../DATA/AS21R/rat_10_SA_1/bsa02032022c20_01.dat...\n",
      "Importing of ../../DATA/AS21R/rat_10_SA_1/bsa02032022c20_01.dat finished in 0.047074079513549805 seconds\n",
      "Analyzing peaks...\n"
     ]
    },
    {
     "name": "stderr",
     "output_type": "stream",
     "text": [
      "C:\\Users\\mceau\\Anaconda3\\lib\\site-packages\\numpy\\core\\fromnumeric.py:3419: RuntimeWarning: Mean of empty slice.\n",
      "  return _methods._mean(a, axis=axis, dtype=dtype,\n",
      "C:\\Users\\mceau\\Anaconda3\\lib\\site-packages\\numpy\\core\\_methods.py:188: RuntimeWarning: invalid value encountered in double_scalars\n",
      "  ret = ret.dtype.type(ret / rcount)\n"
     ]
    },
    {
     "name": "stdout",
     "output_type": "stream",
     "text": [
      "Importing of ../../DATA/AS21R/rat_10_SA_1/AS21RSA1Rat1002032022_0.csv finished in 2.311870813369751 seconds\n",
      "\n",
      "Importing folder rat_10_SA_2...\n",
      "Importing ../../DATA/AS21R/rat_10_SA_2/bsa08032022c20_02.dat...\n",
      "Importing of ../../DATA/AS21R/rat_10_SA_2/bsa08032022c20_02.dat finished in 0.05496692657470703 seconds\n",
      "Analyzing peaks...\n",
      "Importing of ../../DATA/AS21R/rat_10_SA_2/AS21RSA2Rat1008032022_0.csv finished in 1.376161813735962 seconds\n",
      "\n",
      "Importing folder rat_11_SA_1...\n",
      "Importing ../../DATA/AS21R/rat_11_SA_1/bsa03032022c20_01.dat...\n",
      "Importing of ../../DATA/AS21R/rat_11_SA_1/bsa03032022c20_01.dat finished in 0.04996919631958008 seconds\n",
      "Analyzing peaks...\n",
      "Importing of ../../DATA/AS21R/rat_11_SA_1/AS21RSA1Rat1103032022_0.csv finished in 2.2591664791107178 seconds\n",
      "\n",
      "Importing folder rat_11_SA_2...\n",
      "Importing ../../DATA/AS21R/rat_11_SA_2/bsa09032022c20_02.dat...\n",
      "Importing of ../../DATA/AS21R/rat_11_SA_2/bsa09032022c20_02.dat finished in 0.07295560836791992 seconds\n",
      "Analyzing peaks...\n",
      "Importing of ../../DATA/AS21R/rat_11_SA_2/AS21RSA2Rat1109032022_0.csv finished in 1.5686712265014648 seconds\n",
      "\n",
      "Importing folder rat_11_SA_3...\n",
      "Importing ../../DATA/AS21R/rat_11_SA_3/bsa11032022c20_01.dat...\n",
      "Importing of ../../DATA/AS21R/rat_11_SA_3/bsa11032022c20_01.dat finished in 0.05596613883972168 seconds\n",
      "Analyzing peaks...\n",
      "Importing of ../../DATA/AS21R/rat_11_SA_3/AS21RSA3Rat1111032022_0.csv finished in 2.3065972328186035 seconds\n",
      "\n",
      "Importing folder rat_11_SA_4...\n",
      "Importing ../../DATA/AS21R/rat_11_SA_4/bsarec1_15032022c20_01.dat...\n",
      "Importing of ../../DATA/AS21R/rat_11_SA_4/bsarec1_15032022c20_01.dat finished in 0.05796551704406738 seconds\n",
      "Analyzing peaks...\n",
      "Importing of ../../DATA/AS21R/rat_11_SA_4/AS21RSA4Rat1115032022_0.csv finished in 2.324585437774658 seconds\n",
      "\n",
      "Importing folder rat_11_SA_5...\n",
      "Importing ../../DATA/AS21R/rat_11_SA_5/bsa17032022c20_01.dat...\n",
      "Importing of ../../DATA/AS21R/rat_11_SA_5/bsa17032022c20_01.dat finished in 0.05496644973754883 seconds\n",
      "Analyzing peaks...\n",
      "Importing of ../../DATA/AS21R/rat_11_SA_5/AS21RSA5Rat1117032022_0.csv finished in 2.2736170291900635 seconds\n",
      "\n",
      "Importing folder rat_11_SA_6...\n",
      "Importing ../../DATA/AS21R/rat_11_SA_6/bsa22032022c20_01.dat...\n",
      "Importing of ../../DATA/AS21R/rat_11_SA_6/bsa22032022c20_01.dat finished in 0.07695436477661133 seconds\n",
      "Analyzing peaks...\n",
      "Importing of ../../DATA/AS21R/rat_11_SA_6/AS21RSA6Rat1122032022_0.csv finished in 2.2530717849731445 seconds\n",
      "\n",
      "Importing folder rat_11_SA_7...\n",
      "Importing ../../DATA/AS21R/rat_11_SA_7/bsa24032022c20_01.dat...\n",
      "Importing of ../../DATA/AS21R/rat_11_SA_7/bsa24032022c20_01.dat finished in 0.09094500541687012 seconds\n",
      "Analyzing peaks...\n",
      "Importing of ../../DATA/AS21R/rat_11_SA_7/AS21RSA7Rat1124032022_0.csv finished in 0.42374157905578613 seconds\n",
      "\n",
      "Importing folder rat_11_SA_8...\n",
      "Importing ../../DATA/AS21R/rat_11_SA_8/bsa25032022c20_01.dat...\n",
      "Importing of ../../DATA/AS21R/rat_11_SA_8/bsa25032022c20_01.dat finished in 0.15790486335754395 seconds\n",
      "Analyzing peaks...\n",
      "Importing of ../../DATA/AS21R/rat_11_SA_8/AS21RSA8Rat1125032022_0.csv finished in 1.7259485721588135 seconds\n",
      "\n",
      "Importing folder rat_12_SA_1...\n",
      "Importing ../../DATA/AS21R/rat_12_SA_1/bsa01032022c20_02.dat...\n",
      "Importing of ../../DATA/AS21R/rat_12_SA_1/bsa01032022c20_02.dat finished in 0.06096315383911133 seconds\n",
      "Analyzing peaks...\n",
      "Importing of ../../DATA/AS21R/rat_12_SA_1/AS21RSA1Rat1201032022_0.csv finished in 1.6689844131469727 seconds\n",
      "\n",
      "Importing folder rat_12_SA_2...\n",
      "Importing ../../DATA/AS21R/rat_12_SA_2/bsa04032022c20_01.dat...\n",
      "Importing of ../../DATA/AS21R/rat_12_SA_2/bsa04032022c20_01.dat finished in 0.05196952819824219 seconds\n",
      "Analyzing peaks...\n",
      "Importing of ../../DATA/AS21R/rat_12_SA_2/AS21RSA2Rat1204032022_0.csv finished in 2.2861320972442627 seconds\n",
      "\n",
      "Importing folder rat_12_SA_3...\n",
      "Importing ../../DATA/AS21R/rat_12_SA_3/bsa08032022c20_01.dat...\n",
      "Importing of ../../DATA/AS21R/rat_12_SA_3/bsa08032022c20_01.dat finished in 0.04721999168395996 seconds\n",
      "Analyzing peaks...\n",
      "Importing of ../../DATA/AS21R/rat_12_SA_3/modAS21RSA3Rat1208032022_0.csv finished in 2.0037803649902344 seconds\n",
      "\n",
      "Importing folder rat_12_SA_4...\n",
      "Importing ../../DATA/AS21R/rat_12_SA_4/bsa10032022c20_02.dat...\n",
      "Importing of ../../DATA/AS21R/rat_12_SA_4/bsa10032022c20_02.dat finished in 0.054967403411865234 seconds\n",
      "Analyzing peaks...\n",
      "Importing of ../../DATA/AS21R/rat_12_SA_4/AS21RSA4Rat1210032022_0.csv finished in 0.5607404708862305 seconds\n",
      "\n",
      "Importing folder rat_12_SA_5...\n",
      "Importing ../../DATA/AS21R/rat_12_SA_5/bsa16032022c20_01.dat...\n",
      "Importing of ../../DATA/AS21R/rat_12_SA_5/bsa16032022c20_01.dat finished in 0.05496692657470703 seconds\n",
      "Analyzing peaks...\n",
      "Importing of ../../DATA/AS21R/rat_12_SA_5/AS21RSA5Rat1216032022_0.csv finished in 2.2686192989349365 seconds\n",
      "\n",
      "Importing folder rat_12_SA_6...\n",
      "Importing ../../DATA/AS21R/rat_12_SA_6/bsarat12_22032022c20_01.dat...\n",
      "Importing of ../../DATA/AS21R/rat_12_SA_6/bsarat12_22032022c20_01.dat finished in 0.04860687255859375 seconds\n",
      "Analyzing peaks...\n",
      "Importing of ../../DATA/AS21R/rat_12_SA_6/AS21RSA62Rat1222032022_0.csv finished in 2.3856356143951416 seconds\n",
      "\n",
      "Importing folder rat_12_SA_7...\n",
      "Importing ../../DATA/AS21R/rat_12_SA_7/bsaRat12_28032022c20_01.dat...\n",
      "Importing of ../../DATA/AS21R/rat_12_SA_7/bsaRat12_28032022c20_01.dat finished in 0.05796504020690918 seconds\n",
      "Analyzing peaks...\n",
      "Importing of ../../DATA/AS21R/rat_12_SA_7/AS21RSA7Rat1228032022_0.csv finished in 2.1906659603118896 seconds\n",
      "\n",
      "Importing folder rat_3_SA_1...\n",
      "Importing ../../DATA/AS21R/rat_3_SA_1/bsa01032022c20_01.dat...\n",
      "Importing of ../../DATA/AS21R/rat_3_SA_1/bsa01032022c20_01.dat finished in 0.05747652053833008 seconds\n",
      "Analyzing peaks...\n",
      "Importing of ../../DATA/AS21R/rat_3_SA_1/AS21RSA1Rat301032022_0.csv finished in 2.1927449703216553 seconds\n",
      "\n",
      "Importing folder rat_3_SA_2...\n",
      "Importing ../../DATA/AS21R/rat_3_SA_2/bsa17032022c20_01.dat...\n",
      "Importing of ../../DATA/AS21R/rat_3_SA_2/bsa17032022c20_01.dat finished in 0.05248427391052246 seconds\n",
      "Analyzing peaks...\n",
      "Importing of ../../DATA/AS21R/rat_3_SA_2/AS21RSA2Rat317032022_0.csv finished in 2.3212127685546875 seconds\n",
      "\n",
      "Importing folder rat_3_SA_3...\n",
      "Importing ../../DATA/AS21R/rat_3_SA_3/bsa21032022c20_01.dat...\n",
      "Importing of ../../DATA/AS21R/rat_3_SA_3/bsa21032022c20_01.dat finished in 0.05596590042114258 seconds\n",
      "Analyzing peaks...\n",
      "Importing of ../../DATA/AS21R/rat_3_SA_3/AS21RSA3Rat321032022_0.csv finished in 2.291170358657837 seconds\n",
      "\n",
      "Importing folder rat_5_SA_1...\n",
      "Importing ../../DATA/AS21R/rat_5_SA_1/bsa02032022c20_02.dat...\n",
      "Importing of ../../DATA/AS21R/rat_5_SA_1/bsa02032022c20_02.dat finished in 0.057349205017089844 seconds\n",
      "Analyzing peaks...\n",
      "Importing of ../../DATA/AS21R/rat_5_SA_1/AS21RSA1Rat502032022_0.csv finished in 2.3025455474853516 seconds\n",
      "\n",
      "Importing folder rat_5_SA_2...\n",
      "Importing ../../DATA/AS21R/rat_5_SA_2/bsa10032022c20_01.dat...\n",
      "Importing of ../../DATA/AS21R/rat_5_SA_2/bsa10032022c20_01.dat finished in 0.052622079849243164 seconds\n",
      "Analyzing peaks...\n",
      "Importing of ../../DATA/AS21R/rat_5_SA_2/AS21RSA2Rat510032022_0.csv finished in 2.299293279647827 seconds\n",
      "\n",
      "Importing folder rat_5_SA_3...\n",
      "Importing ../../DATA/AS21R/rat_5_SA_3/bsa11032022c20_02.dat...\n",
      "Importing of ../../DATA/AS21R/rat_5_SA_3/bsa11032022c20_02.dat finished in 0.05918574333190918 seconds\n",
      "Analyzing peaks...\n",
      "Importing of ../../DATA/AS21R/rat_5_SA_3/AS21RSA3Rat511032022_0.csv finished in 1.7278494834899902 seconds\n",
      "\n",
      "Importing folder rat_5_SA_4...\n",
      "Importing ../../DATA/AS21R/rat_5_SA_4/bsa15032022c20_01.dat...\n",
      "Importing of ../../DATA/AS21R/rat_5_SA_4/bsa15032022c20_01.dat finished in 0.055966854095458984 seconds\n",
      "Analyzing peaks...\n",
      "Importing of ../../DATA/AS21R/rat_5_SA_4/AS21RSA4Rat515032022_0.csv finished in 2.3432352542877197 seconds\n",
      "\n",
      "Importing folder rat_5_SA_5...\n",
      "Importing ../../DATA/AS21R/rat_5_SA_5/bsarec121032022c20_01.dat...\n",
      "Importing of ../../DATA/AS21R/rat_5_SA_5/bsarec121032022c20_01.dat finished in 0.04767727851867676 seconds\n",
      "Analyzing peaks...\n",
      "Importing of ../../DATA/AS21R/rat_5_SA_5/AS21RSA5Rat521032022_0.csv finished in 2.3660523891448975 seconds\n",
      "\n",
      "Importing folder rat_5_SA_6...\n",
      "Importing ../../DATA/AS21R/rat_5_SA_6/bsa23032022c20_01.dat...\n",
      "Importing of ../../DATA/AS21R/rat_5_SA_6/bsa23032022c20_01.dat finished in 0.055858612060546875 seconds\n"
     ]
    },
    {
     "name": "stdout",
     "output_type": "stream",
     "text": [
      "Analyzing peaks...\n",
      "Importing of ../../DATA/AS21R/rat_5_SA_6/AS21RSA6Rat523032022_0.csv finished in 2.466127872467041 seconds\n",
      "\n",
      "Importing folder rat_5_SA_7...\n",
      "Importing ../../DATA/AS21R/rat_5_SA_7/bsa28032022c20_01.dat...\n",
      "Importing of ../../DATA/AS21R/rat_5_SA_7/bsa28032022c20_01.dat finished in 0.05557513236999512 seconds\n",
      "Analyzing peaks...\n",
      "Importing of ../../DATA/AS21R/rat_5_SA_7/AS21RSAxRat528032022_0.csv finished in 2.422524929046631 seconds\n",
      "\n",
      "Importing folder rat_8_SA_1...\n",
      "Importing ../../DATA/AS21R/rat_8_SA_1/bsa03032022c20_02.dat...\n",
      "Importing of ../../DATA/AS21R/rat_8_SA_1/bsa03032022c20_02.dat finished in 0.06396174430847168 seconds\n",
      "Analyzing peaks...\n",
      "Importing of ../../DATA/AS21R/rat_8_SA_1/AS21RSA1Rat803032022recording1.csv finished in 0.4317362308502197 seconds\n",
      "\n",
      "Importing folder rat_8_SA_2...\n",
      "Importing ../../DATA/AS21R/rat_8_SA_2/bsa04032022c20_02.dat...\n",
      "Importing of ../../DATA/AS21R/rat_8_SA_2/bsa04032022c20_02.dat finished in 0.059964656829833984 seconds\n",
      "Analyzing peaks...\n",
      "Importing of ../../DATA/AS21R/rat_8_SA_2/AS21RSA2Rat804032022_0.csv finished in 2.5953118801116943 seconds\n",
      "\n",
      "Importing folder rat_8_SA_3...\n",
      "Importing ../../DATA/AS21R/rat_8_SA_3/bsa09032022c20_01.dat...\n",
      "Importing of ../../DATA/AS21R/rat_8_SA_3/bsa09032022c20_01.dat finished in 0.07095599174499512 seconds\n",
      "Analyzing peaks...\n",
      "Importing of ../../DATA/AS21R/rat_8_SA_3/AS21RSA3Rat809032022_0.csv finished in 2.3765525817871094 seconds\n",
      "\n",
      "Importing folder rat_8_SA_4...\n",
      "Importing ../../DATA/AS21R/rat_8_SA_4/bsarec1_16032022c20_01.dat...\n",
      "Importing of ../../DATA/AS21R/rat_8_SA_4/bsarec1_16032022c20_01.dat finished in 0.06075716018676758 seconds\n",
      "Analyzing peaks...\n",
      "Importing of ../../DATA/AS21R/rat_8_SA_4/AS21RSA4Rat816032022_0.csv finished in 2.3375794887542725 seconds\n",
      "\n",
      "Importing folder rat_8_SA_5...\n",
      "Importing ../../DATA/AS21R/rat_8_SA_5/bsarat823032022c20_01.dat...\n",
      "Importing of ../../DATA/AS21R/rat_8_SA_5/bsarat823032022c20_01.dat finished in 0.05963635444641113 seconds\n",
      "Analyzing peaks...\n",
      "Importing of ../../DATA/AS21R/rat_8_SA_5/AS21RSA5Rat823032022_0.csv finished in 2.2483742237091064 seconds\n",
      "Analysing interinfusion intervals...\n",
      "No sessions removed.\n",
      "Importing ../../DATA/AS21R\\rat_10_SA_1\\bsa02032022c20_01.dat...\n",
      "Importing of ../../DATA/AS21R\\rat_10_SA_1\\bsa02032022c20_01.dat finished in 0.046495914459228516 seconds\n",
      "Importing ../../DATA/AS21R\\rat_10_SA_2\\bsa08032022c20_02.dat...\n",
      "Importing of ../../DATA/AS21R\\rat_10_SA_2\\bsa08032022c20_02.dat finished in 0.05426287651062012 seconds\n",
      "Importing ../../DATA/AS21R\\rat_11_SA_1\\bsa03032022c20_01.dat...\n",
      "Importing of ../../DATA/AS21R\\rat_11_SA_1\\bsa03032022c20_01.dat finished in 0.04713559150695801 seconds\n",
      "Importing ../../DATA/AS21R\\rat_11_SA_2\\bsa09032022c20_02.dat...\n",
      "Importing of ../../DATA/AS21R\\rat_11_SA_2\\bsa09032022c20_02.dat finished in 0.07095527648925781 seconds\n",
      "Importing ../../DATA/AS21R\\rat_11_SA_3\\bsa11032022c20_01.dat...\n",
      "Importing of ../../DATA/AS21R\\rat_11_SA_3\\bsa11032022c20_01.dat finished in 0.05555844306945801 seconds\n",
      "Importing ../../DATA/AS21R\\rat_11_SA_4\\bsarec1_15032022c20_01.dat...\n",
      "Importing of ../../DATA/AS21R\\rat_11_SA_4\\bsarec1_15032022c20_01.dat finished in 0.07295680046081543 seconds\n",
      "Importing ../../DATA/AS21R\\rat_11_SA_5\\bsa17032022c20_01.dat...\n",
      "Importing of ../../DATA/AS21R\\rat_11_SA_5\\bsa17032022c20_01.dat finished in 0.061963558197021484 seconds\n",
      "Importing ../../DATA/AS21R\\rat_11_SA_6\\bsa22032022c20_01.dat...\n",
      "Importing of ../../DATA/AS21R\\rat_11_SA_6\\bsa22032022c20_01.dat finished in 0.09394335746765137 seconds\n",
      "Importing ../../DATA/AS21R\\rat_11_SA_7\\bsa24032022c20_01.dat...\n",
      "Importing of ../../DATA/AS21R\\rat_11_SA_7\\bsa24032022c20_01.dat finished in 0.10393691062927246 seconds\n",
      "Importing ../../DATA/AS21R\\rat_11_SA_8\\bsa25032022c20_01.dat...\n",
      "Importing of ../../DATA/AS21R\\rat_11_SA_8\\bsa25032022c20_01.dat finished in 0.16153526306152344 seconds\n",
      "Importing ../../DATA/AS21R\\rat_12_SA_1\\bsa01032022c20_02.dat...\n",
      "Importing of ../../DATA/AS21R\\rat_12_SA_1\\bsa01032022c20_02.dat finished in 0.05998039245605469 seconds\n",
      "Importing ../../DATA/AS21R\\rat_12_SA_2\\bsa04032022c20_01.dat...\n",
      "Importing of ../../DATA/AS21R\\rat_12_SA_2\\bsa04032022c20_01.dat finished in 0.050252437591552734 seconds\n",
      "Importing ../../DATA/AS21R\\rat_12_SA_3\\bsa08032022c20_01.dat...\n",
      "Importing of ../../DATA/AS21R\\rat_12_SA_3\\bsa08032022c20_01.dat finished in 0.04897022247314453 seconds\n",
      "Importing ../../DATA/AS21R\\rat_12_SA_4\\bsa10032022c20_02.dat...\n",
      "Importing of ../../DATA/AS21R\\rat_12_SA_4\\bsa10032022c20_02.dat finished in 0.05384373664855957 seconds\n",
      "Importing ../../DATA/AS21R\\rat_12_SA_5\\bsa16032022c20_01.dat...\n",
      "Importing of ../../DATA/AS21R\\rat_12_SA_5\\bsa16032022c20_01.dat finished in 0.047971487045288086 seconds\n",
      "Importing ../../DATA/AS21R\\rat_12_SA_6\\bsarat12_22032022c20_01.dat...\n",
      "Importing of ../../DATA/AS21R\\rat_12_SA_6\\bsarat12_22032022c20_01.dat finished in 0.04880332946777344 seconds\n",
      "Importing ../../DATA/AS21R\\rat_12_SA_7\\bsaRat12_28032022c20_01.dat...\n",
      "Importing of ../../DATA/AS21R\\rat_12_SA_7\\bsaRat12_28032022c20_01.dat finished in 0.04856538772583008 seconds\n",
      "Importing ../../DATA/AS21R\\rat_3_SA_1\\bsa01032022c20_01.dat...\n",
      "Importing of ../../DATA/AS21R\\rat_3_SA_1\\bsa01032022c20_01.dat finished in 0.05871248245239258 seconds\n",
      "Importing ../../DATA/AS21R\\rat_3_SA_2\\bsa17032022c20_01.dat...\n",
      "Importing of ../../DATA/AS21R\\rat_3_SA_2\\bsa17032022c20_01.dat finished in 0.05298304557800293 seconds\n",
      "Importing ../../DATA/AS21R\\rat_3_SA_3\\bsa21032022c20_01.dat...\n",
      "Importing of ../../DATA/AS21R\\rat_3_SA_3\\bsa21032022c20_01.dat finished in 0.05596590042114258 seconds\n",
      "Importing ../../DATA/AS21R\\rat_5_SA_1\\bsa02032022c20_02.dat...\n",
      "Importing of ../../DATA/AS21R\\rat_5_SA_1\\bsa02032022c20_02.dat finished in 0.05896615982055664 seconds\n",
      "Importing ../../DATA/AS21R\\rat_5_SA_2\\bsa10032022c20_01.dat...\n",
      "Importing of ../../DATA/AS21R\\rat_5_SA_2\\bsa10032022c20_01.dat finished in 0.05188703536987305 seconds\n",
      "Importing ../../DATA/AS21R\\rat_5_SA_3\\bsa11032022c20_02.dat...\n",
      "Importing of ../../DATA/AS21R\\rat_5_SA_3\\bsa11032022c20_02.dat finished in 0.058881521224975586 seconds\n",
      "Importing ../../DATA/AS21R\\rat_5_SA_4\\bsa15032022c20_01.dat...\n",
      "Importing of ../../DATA/AS21R\\rat_5_SA_4\\bsa15032022c20_01.dat finished in 0.0516355037689209 seconds\n",
      "Importing ../../DATA/AS21R\\rat_5_SA_5\\bsarec121032022c20_01.dat...\n",
      "Importing of ../../DATA/AS21R\\rat_5_SA_5\\bsarec121032022c20_01.dat finished in 0.05109596252441406 seconds\n",
      "Importing ../../DATA/AS21R\\rat_5_SA_6\\bsa23032022c20_01.dat...\n",
      "Importing of ../../DATA/AS21R\\rat_5_SA_6\\bsa23032022c20_01.dat finished in 0.0545041561126709 seconds\n",
      "Importing ../../DATA/AS21R\\rat_5_SA_7\\bsa28032022c20_01.dat...\n",
      "Importing of ../../DATA/AS21R\\rat_5_SA_7\\bsa28032022c20_01.dat finished in 0.05596590042114258 seconds\n",
      "Importing ../../DATA/AS21R\\rat_8_SA_1\\bsa03032022c20_02.dat...\n",
      "Importing of ../../DATA/AS21R\\rat_8_SA_1\\bsa03032022c20_02.dat finished in 0.05042624473571777 seconds\n",
      "Importing ../../DATA/AS21R\\rat_8_SA_2\\bsa04032022c20_02.dat...\n",
      "Importing of ../../DATA/AS21R\\rat_8_SA_2\\bsa04032022c20_02.dat finished in 0.05896425247192383 seconds\n",
      "Importing ../../DATA/AS21R\\rat_8_SA_3\\bsa09032022c20_01.dat...\n",
      "Importing of ../../DATA/AS21R\\rat_8_SA_3\\bsa09032022c20_01.dat finished in 0.05603647232055664 seconds\n",
      "Importing ../../DATA/AS21R\\rat_8_SA_4\\bsarec1_16032022c20_01.dat...\n",
      "Importing of ../../DATA/AS21R\\rat_8_SA_4\\bsarec1_16032022c20_01.dat finished in 0.05796456336975098 seconds\n",
      "Importing ../../DATA/AS21R\\rat_8_SA_5\\bsarat823032022c20_01.dat...\n",
      "Importing of ../../DATA/AS21R\\rat_8_SA_5\\bsarat823032022c20_01.dat finished in 0.053968191146850586 seconds\n",
      "Extraction finished, 64 files in 72.82759737968445 seconds\n"
     ]
    }
   ],
   "source": [
    "AS21Rsessions = analysis.MultiSession(\"../../DATA/AS21R\",debug=True)\n",
    "switch_DND = AS21Rsessions.analyze(['switch_d_nd','switch_to_nd'])"
   ]
  },
  {
   "cell_type": "code",
   "execution_count": null,
   "id": "41ebbb22",
   "metadata": {},
   "outputs": [],
   "source": [
    "switch_DND.plot('zscores',alpha=0.5,smooth_mean=True,smooth_data=True)\n",
    "plt.title('Switch from drug to no drug')\n",
    "plt.grid(b='True')\n",
    "plt.ylabel('Standard scores (preevent mean)')\n",
    "plt.xlabel('Epoch centered around event time')\n",
    "plt.legend()\n",
    "plt.savefig(dataf+'switchDND.svg',dpi=1200)"
   ]
  },
  {
   "cell_type": "markdown",
   "id": "a54d8b95",
   "metadata": {},
   "source": [
    "# Peak analysis"
   ]
  },
  {
   "cell_type": "code",
   "execution_count": null,
   "id": "2bf2cbf6",
   "metadata": {},
   "outputs": [],
   "source": []
  },
  {
   "cell_type": "markdown",
   "id": "74b771bb",
   "metadata": {},
   "source": [
    "# Event plotting"
   ]
  },
  {
   "cell_type": "code",
   "execution_count": null,
   "id": "e011e64c",
   "metadata": {},
   "outputs": [],
   "source": []
  }
 ],
 "metadata": {
  "kernelspec": {
   "display_name": "Python 3 (ipykernel)",
   "language": "python",
   "name": "python3"
  },
  "language_info": {
   "codemirror_mode": {
    "name": "ipython",
    "version": 3
   },
   "file_extension": ".py",
   "mimetype": "text/x-python",
   "name": "python",
   "nbconvert_exporter": "python",
   "pygments_lexer": "ipython3",
   "version": "3.9.7"
  }
 },
 "nbformat": 4,
 "nbformat_minor": 5
}
