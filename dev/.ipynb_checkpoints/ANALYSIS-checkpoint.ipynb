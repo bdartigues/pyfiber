{
 "cells": [
  {
   "cell_type": "code",
   "execution_count": 13,
   "id": "af43a433",
   "metadata": {},
   "outputs": [
    {
     "name": "stdout",
     "output_type": "stream",
     "text": [
      "C:\\Users\\mceau\\Documents\\fiberphotopy\\fiberphotopy\n"
     ]
    }
   ],
   "source": [
    "%cd Documents\\fiberphotopy\\fiberphotopy\\"
   ]
  },
  {
   "cell_type": "code",
   "execution_count": 18,
   "id": "034e7f22",
   "metadata": {},
   "outputs": [],
   "source": [
    "import pandas as pd\n",
    "import fp_utils, behavioral_data, analysis, fiber_data\n",
    "import numpy as np\n",
    "import matplotlib.pyplot as plt\n",
    "from scipy import stats\n",
    "import importlib\n",
    "import yaml\n",
    "def rel():\n",
    "    for module in [fp_utils, behavioral_data, analysis, fiber_data]:\n",
    "        importlib.reload(module)"
   ]
  },
  {
   "cell_type": "code",
   "execution_count": 15,
   "id": "a045e5f3",
   "metadata": {},
   "outputs": [
    {
     "name": "stdout",
     "output_type": "stream",
     "text": [
      "\n",
      "Importing folder AD21R_rat_2_Self-Administration_j23...\n",
      "Importing ../../DATA/FIBER_SAMPLE//AD21R_rat_2_Self-Administration_j23/bsa15072021c20_01.dat...\n",
      "Importing of ../../DATA/FIBER_SAMPLE//AD21R_rat_2_Self-Administration_j23/bsa15072021c20_01.dat finished in 0.044 seconds\n",
      "Analyzing peaks...\n"
     ]
    },
    {
     "name": "stderr",
     "output_type": "stream",
     "text": [
      "C:\\Users\\mceau\\Anaconda3\\lib\\site-packages\\numpy\\core\\fromnumeric.py:3419: RuntimeWarning: Mean of empty slice.\n",
      "  return _methods._mean(a, axis=axis, dtype=dtype,\n",
      "C:\\Users\\mceau\\Anaconda3\\lib\\site-packages\\numpy\\core\\_methods.py:188: RuntimeWarning: invalid value encountered in double_scalars\n",
      "  ret = ret.dtype.type(ret / rcount)\n"
     ]
    },
    {
     "name": "stdout",
     "output_type": "stream",
     "text": [
      "Importing of ../../DATA/FIBER_SAMPLE//AD21R_rat_2_Self-Administration_j23/AD21RSA1RAT215072021_0.csv finished in 1.2752110958099365 seconds\n",
      "\n",
      "Importing folder AD21R_rat_2_Self-Administration_j42...\n",
      "Importing ../../DATA/FIBER_SAMPLE//AD21R_rat_2_Self-Administration_j42/bsa11082021c20_01.dat...\n",
      "Importing of ../../DATA/FIBER_SAMPLE//AD21R_rat_2_Self-Administration_j42/bsa11082021c20_01.dat finished in 0.061 seconds\n",
      "Analyzing peaks...\n",
      "Importing of ../../DATA/FIBER_SAMPLE//AD21R_rat_2_Self-Administration_j42/rat2sa211082021_0 - Copy.csv finished in 1.8858342170715332 seconds\n",
      "\n",
      "Importing folder AD21R_rat_2_Self-Administration_j51...\n",
      "Importing ../../DATA/FIBER_SAMPLE//AD21R_rat_2_Self-Administration_j51/bsa25082021c20_01.dat...\n",
      "Importing of ../../DATA/FIBER_SAMPLE//AD21R_rat_2_Self-Administration_j51/bsa25082021c20_01.dat finished in 0.049 seconds\n",
      "Analyzing peaks...\n",
      "Importing of ../../DATA/FIBER_SAMPLE//AD21R_rat_2_Self-Administration_j51/AD21RSARAT225082021_0.csv finished in 1.8968276977539062 seconds\n",
      "\n",
      "Importing folder AK20R_rat_3_Self-Administration_j17...\n",
      "Importing ../../DATA/FIBER_SAMPLE//AK20R_rat_3_Self-Administration_j17/bsa19112020c20_01.dat...\n",
      "Importing of ../../DATA/FIBER_SAMPLE//AK20R_rat_3_Self-Administration_j17/bsa19112020c20_01.dat finished in 0.032 seconds\n",
      "Analyzing peaks...\n",
      "Importing of ../../DATA/FIBER_SAMPLE//AK20R_rat_3_Self-Administration_j17/rat 3 AK20R SESSION 19 11 2020_0.csv finished in 1.2752113342285156 seconds\n",
      "\n",
      "Importing folder AL21R_rat_3_NCIBSL_j37...\n",
      "Importing ../../DATA/FIBER_SAMPLE//AL21R_rat_3_NCIBSL_j37/bsa01122021c20_02.dat...\n",
      "Importing of ../../DATA/FIBER_SAMPLE//AL21R_rat_3_NCIBSL_j37/bsa01122021c20_02.dat finished in 0.039 seconds\n",
      "Analyzing peaks...\n",
      "Importing of ../../DATA/FIBER_SAMPLE//AL21R_rat_3_NCIBSL_j37/AL21Rrat3nciBSL101122021_0.csv finished in 3.5747921466827393 seconds\n",
      "\n",
      "Importing folder AL21R_rat_3_NDPre20_j32...\n",
      "Importing ../../DATA/FIBER_SAMPLE//AL21R_rat_3_NDPre20_j32/bsa24112021c20_01.dat...\n",
      "Importing of ../../DATA/FIBER_SAMPLE//AL21R_rat_3_NDPre20_j32/bsa24112021c20_01.dat finished in 0.032 seconds\n",
      "Analyzing peaks...\n",
      "Importing of ../../DATA/FIBER_SAMPLE//AL21R_rat_3_NDPre20_j32/AL21Rrat3NDpre224112021_0.csv finished in 1.2572236061096191 seconds\n",
      "\n",
      "Importing folder AL21R_rat_3_NDPre_j28...\n",
      "Importing ../../DATA/FIBER_SAMPLE//AL21R_rat_3_NDPre_j28/bsa18112021c20_02.dat...\n",
      "Importing of ../../DATA/FIBER_SAMPLE//AL21R_rat_3_NDPre_j28/bsa18112021c20_02.dat finished in 0.035 seconds\n",
      "Analyzing peaks...\n",
      "Importing of ../../DATA/FIBER_SAMPLE//AL21R_rat_3_NDPre_j28/AL21Rrat3NDPRE118112021_0.csv finished in 1.1552867889404297 seconds\n",
      "\n",
      "Importing folder AS21R_rat_10_SA1_j22...\n",
      "Importing ../../DATA/FIBER_SAMPLE//AS21R_rat_10_SA1_j22/bsa02032022c20_01.dat...\n",
      "Importing of ../../DATA/FIBER_SAMPLE//AS21R_rat_10_SA1_j22/bsa02032022c20_01.dat finished in 0.076 seconds\n",
      "Analyzing peaks...\n",
      "Importing of ../../DATA/FIBER_SAMPLE//AS21R_rat_10_SA1_j22/AS21RSA1Rat1002032022_0.csv finished in 1.908820390701294 seconds\n",
      "\n",
      "Importing folder AS21R_rat_11_BSL_j42...\n",
      "Importing ../../DATA/FIBER_SAMPLE//AS21R_rat_11_BSL_j42/bsa_rec1_rat11_30032022c20_01.dat...\n",
      "Importing of ../../DATA/FIBER_SAMPLE//AS21R_rat_11_BSL_j42/bsa_rec1_rat11_30032022c20_01.dat finished in 0.128 seconds\n",
      "Analyzing peaks...\n",
      "Importing of ../../DATA/FIBER_SAMPLE//AS21R_rat_11_BSL_j42/AS21RSAxbaselineRat11_30032022_0.csv finished in 3.5667972564697266 seconds\n",
      "\n",
      "Importing folder AS21R_rat_11_SA5_j33...\n",
      "Importing ../../DATA/FIBER_SAMPLE//AS21R_rat_11_SA5_j33/bsa17032022c20_01.dat...\n",
      "Importing of ../../DATA/FIBER_SAMPLE//AS21R_rat_11_SA5_j33/bsa17032022c20_01.dat finished in 0.049 seconds\n",
      "Analyzing peaks...\n",
      "Importing of ../../DATA/FIBER_SAMPLE//AS21R_rat_11_SA5_j33/AS21RSA5Rat1117032022_0.csv finished in 1.908820629119873 seconds\n",
      "\n",
      "Importing folder AS21R_rat_12_SA4...\n",
      "Importing ../../DATA/FIBER_SAMPLE//AS21R_rat_12_SA4/bsa10032022c20_02.dat...\n",
      "Importing of ../../DATA/FIBER_SAMPLE//AS21R_rat_12_SA4/bsa10032022c20_02.dat finished in 0.049 seconds\n",
      "Analyzing peaks...\n",
      "Importing of ../../DATA/FIBER_SAMPLE//AS21R_rat_12_SA4/AS21RSA4Rat1210032022_0.csv finished in 0.4257364273071289 seconds\n",
      "\n",
      "Importing folder AS21R_rat_5_SA6_j37...\n",
      "Importing ../../DATA/FIBER_SAMPLE//AS21R_rat_5_SA6_j37/bsa23032022c20_01.dat...\n",
      "Importing of ../../DATA/FIBER_SAMPLE//AS21R_rat_5_SA6_j37/bsa23032022c20_01.dat finished in 0.047 seconds\n",
      "Analyzing peaks...\n",
      "Importing of ../../DATA/FIBER_SAMPLE//AS21R_rat_5_SA6_j37/AS21RSA6Rat523032022_0.csv finished in 1.872842788696289 seconds\n",
      "\n",
      "Importing folder AS21R_rat_5_SA7_j40...\n",
      "Importing ../../DATA/FIBER_SAMPLE//AS21R_rat_5_SA7_j40/bsa28032022c20_01.dat...\n",
      "Importing of ../../DATA/FIBER_SAMPLE//AS21R_rat_5_SA7_j40/bsa28032022c20_01.dat finished in 0.052 seconds\n",
      "Analyzing peaks...\n",
      "Importing of ../../DATA/FIBER_SAMPLE//AS21R_rat_5_SA7_j40/AS21RSAxRat528032022_0.csv finished in 1.8988275527954102 seconds\n",
      "\n",
      "Importing folder AS21R_rat_8_SA1...\n",
      "Importing ../../DATA/FIBER_SAMPLE//AS21R_rat_8_SA1/bsa03032022c20_02.dat...\n",
      "Importing of ../../DATA/FIBER_SAMPLE//AS21R_rat_8_SA1/bsa03032022c20_02.dat finished in 0.047 seconds\n",
      "Analyzing peaks...\n",
      "Importing of ../../DATA/FIBER_SAMPLE//AS21R_rat_8_SA1/AS21RSA1Rat803032022_0.csv finished in 1.8868346214294434 seconds\n",
      "\n",
      "Importing folder AS21R_rat_8_SA3_j27...\n",
      "Importing ../../DATA/FIBER_SAMPLE//AS21R_rat_8_SA3_j27/bsa09032022c20_01.dat...\n",
      "Importing of ../../DATA/FIBER_SAMPLE//AS21R_rat_8_SA3_j27/bsa09032022c20_01.dat finished in 0.052 seconds\n",
      "Analyzing peaks...\n",
      "Importing of ../../DATA/FIBER_SAMPLE//AS21R_rat_8_SA3_j27/AS21RSA3Rat809032022_0.csv finished in 1.9058213233947754 seconds\n",
      "Analysing interinfusion intervals...\n",
      "Session AS21R_rat_12_SA4 removed, interinfusion = 357.6857142857143 ms\n",
      "Session AS21R_rat_8_SA1 removed, interinfusion = 348.04347826086956 ms\n",
      "Importing ../../DATA/FIBER_SAMPLE/AD21R_rat_2_Self-Administration_j23\\bsa15072021c20_01.dat...\n",
      "Importing of ../../DATA/FIBER_SAMPLE/AD21R_rat_2_Self-Administration_j23\\bsa15072021c20_01.dat finished in 0.052 seconds\n",
      "Importing ../../DATA/FIBER_SAMPLE/AD21R_rat_2_Self-Administration_j42\\bsa11082021c20_01.dat...\n",
      "Importing of ../../DATA/FIBER_SAMPLE/AD21R_rat_2_Self-Administration_j42\\bsa11082021c20_01.dat finished in 0.071 seconds\n",
      "Importing ../../DATA/FIBER_SAMPLE/AD21R_rat_2_Self-Administration_j51\\bsa25082021c20_01.dat...\n",
      "Importing of ../../DATA/FIBER_SAMPLE/AD21R_rat_2_Self-Administration_j51\\bsa25082021c20_01.dat finished in 0.052 seconds\n",
      "Importing ../../DATA/FIBER_SAMPLE/AK20R_rat_3_Self-Administration_j17\\bsa19112020c20_01.dat...\n",
      "Importing of ../../DATA/FIBER_SAMPLE/AK20R_rat_3_Self-Administration_j17\\bsa19112020c20_01.dat finished in 0.032 seconds\n",
      "Importing ../../DATA/FIBER_SAMPLE/AL21R_rat_3_NCIBSL_j37\\bsa01122021c20_02.dat...\n",
      "Importing of ../../DATA/FIBER_SAMPLE/AL21R_rat_3_NCIBSL_j37\\bsa01122021c20_02.dat finished in 0.04 seconds\n",
      "Importing ../../DATA/FIBER_SAMPLE/AL21R_rat_3_NDPre20_j32\\bsa24112021c20_01.dat...\n",
      "Importing of ../../DATA/FIBER_SAMPLE/AL21R_rat_3_NDPre20_j32\\bsa24112021c20_01.dat finished in 0.031 seconds\n",
      "Importing ../../DATA/FIBER_SAMPLE/AL21R_rat_3_NDPre_j28\\bsa18112021c20_02.dat...\n",
      "Importing of ../../DATA/FIBER_SAMPLE/AL21R_rat_3_NDPre_j28\\bsa18112021c20_02.dat finished in 0.033 seconds\n",
      "Importing ../../DATA/FIBER_SAMPLE/AS21R_rat_10_SA1_j22\\bsa02032022c20_01.dat...\n",
      "Importing of ../../DATA/FIBER_SAMPLE/AS21R_rat_10_SA1_j22\\bsa02032022c20_01.dat finished in 0.041 seconds\n",
      "Importing ../../DATA/FIBER_SAMPLE/AS21R_rat_11_BSL_j42\\bsa_rec1_rat11_30032022c20_01.dat...\n",
      "Importing of ../../DATA/FIBER_SAMPLE/AS21R_rat_11_BSL_j42\\bsa_rec1_rat11_30032022c20_01.dat finished in 0.131 seconds\n",
      "Importing ../../DATA/FIBER_SAMPLE/AS21R_rat_11_SA5_j33\\bsa17032022c20_01.dat...\n",
      "Importing of ../../DATA/FIBER_SAMPLE/AS21R_rat_11_SA5_j33\\bsa17032022c20_01.dat finished in 0.047 seconds\n",
      "Importing ../../DATA/FIBER_SAMPLE/AS21R_rat_12_SA4\\bsa10032022c20_02.dat...\n",
      "Importing of ../../DATA/FIBER_SAMPLE/AS21R_rat_12_SA4\\bsa10032022c20_02.dat finished in 0.052 seconds\n",
      "Importing ../../DATA/FIBER_SAMPLE/AS21R_rat_5_SA6_j37\\bsa23032022c20_01.dat...\n",
      "Importing of ../../DATA/FIBER_SAMPLE/AS21R_rat_5_SA6_j37\\bsa23032022c20_01.dat finished in 0.049 seconds\n",
      "Importing ../../DATA/FIBER_SAMPLE/AS21R_rat_5_SA7_j40\\bsa28032022c20_01.dat...\n",
      "Importing of ../../DATA/FIBER_SAMPLE/AS21R_rat_5_SA7_j40\\bsa28032022c20_01.dat finished in 0.049 seconds\n",
      "Importing ../../DATA/FIBER_SAMPLE/AS21R_rat_8_SA1\\bsa03032022c20_02.dat...\n",
      "Importing of ../../DATA/FIBER_SAMPLE/AS21R_rat_8_SA1\\bsa03032022c20_02.dat finished in 0.045 seconds\n",
      "Importing ../../DATA/FIBER_SAMPLE/AS21R_rat_8_SA3_j27\\bsa09032022c20_01.dat...\n"
     ]
    },
    {
     "name": "stdout",
     "output_type": "stream",
     "text": [
      "Importing of ../../DATA/FIBER_SAMPLE/AS21R_rat_8_SA3_j27\\bsa09032022c20_01.dat finished in 0.054 seconds\n",
      "Extraction finished, 26 files in 31.697421073913574 seconds\n"
     ]
    }
   ],
   "source": [
    "s = analysis.MultiSession('../../DATA/FIBER_SAMPLE/')\n"
   ]
  },
  {
   "cell_type": "code",
   "execution_count": 27,
   "id": "e63baf6f",
   "metadata": {
    "scrolled": true
   },
   "outputs": [],
   "source": [
    "with open('../config.yaml') as f:\n",
    "    config = yaml.load(f, Loader=yaml.FullLoader)"
   ]
  },
  {
   "cell_type": "code",
   "execution_count": 130,
   "id": "ef6c50c9",
   "metadata": {
    "scrolled": false
   },
   "outputs": [],
   "source": [
    "class Test:\n",
    "    __HIDDEN = 'bouh'\n",
    "    CONFIG = config['USER']\n",
    "    \n",
    "    def __init__(self):\n",
    "        self.banana = 'yes'\n",
    "    \n",
    "    def f(self):\n",
    "        print(locals())\n",
    "        return self._Test__HIDDEN\n",
    "\n",
    "class Child(Test):\n",
    "    \n",
    "    def __init__(self,name=12,thing=56,**kwargs):\n",
    "        self.__dict__.update({k:v for k,v in locals().items() if k not in ('self','__class__','kwargs')})\n",
    "        super().__init__()\n",
    "        \n",
    "    "
   ]
  },
  {
   "cell_type": "code",
   "execution_count": 131,
   "id": "ab969553",
   "metadata": {},
   "outputs": [
    {
     "data": {
      "text/plain": [
       "{'name': 12, 'thing': 56, 'banana': 'yes'}"
      ]
     },
     "execution_count": 131,
     "metadata": {},
     "output_type": "execute_result"
    }
   ],
   "source": [
    "Child(carror=12).__dict__"
   ]
  },
  {
   "cell_type": "code",
   "execution_count": 16,
   "id": "a80b5e44",
   "metadata": {
    "scrolled": true
   },
   "outputs": [
    {
     "name": "stdout",
     "output_type": "stream",
     "text": [
      "[2400.]\n",
      "[(0, 4506.005)]\n",
      "[]\n",
      "[]\n",
      "[2400.]\n",
      "[(0, 8546.632)]\n",
      "[]\n",
      "[]\n",
      "[2400.]\n",
      "[(0, 9000.039)]\n",
      "[]\n",
      "[]\n",
      "[2400.002]\n",
      "[(30, 4506.058)]\n",
      "[]\n",
      "[]\n",
      "[2400.]\n",
      "[(0, 9000.007)]\n",
      "[]\n",
      "[]\n",
      "[3300.005]\n",
      "[(29, 4211.092)]\n",
      "[]\n",
      "[]\n",
      "[3300.003]\n",
      "[(0, 4200.021)]\n",
      "[]\n",
      "[]\n",
      "[2400.001]\n",
      "[(34, 9000.086)]\n",
      "[]\n",
      "[]\n",
      "[2400.001]\n",
      "[(34, 3300.0)]\n",
      "[]\n",
      "[]\n",
      "[2400.007]\n",
      "[(33, 9000.121)]\n",
      "[]\n",
      "[]\n",
      "[2400.]\n",
      "[(0, 9000.029)]\n",
      "[]\n",
      "[]\n",
      "[2400.001]\n",
      "[(0, 9000.03)]\n",
      "[]\n",
      "[]\n",
      "[2400.005]\n",
      "[(31, 9000.127)]\n",
      "[]\n",
      "[]\n"
     ]
    }
   ],
   "source": [
    "a = s.analyze('switch_1')"
   ]
  },
  {
   "cell_type": "code",
   "execution_count": null,
   "id": "4a55adb6",
   "metadata": {},
   "outputs": [],
   "source": [
    "a.plot('signal',figsize=(15,10))"
   ]
  }
 ],
 "metadata": {
  "kernelspec": {
   "display_name": "Python 3 (ipykernel)",
   "language": "python",
   "name": "python3"
  },
  "language_info": {
   "codemirror_mode": {
    "name": "ipython",
    "version": 3
   },
   "file_extension": ".py",
   "mimetype": "text/x-python",
   "name": "python",
   "nbconvert_exporter": "python",
   "pygments_lexer": "ipython3",
   "version": "3.9.7"
  }
 },
 "nbformat": 4,
 "nbformat_minor": 5
}
