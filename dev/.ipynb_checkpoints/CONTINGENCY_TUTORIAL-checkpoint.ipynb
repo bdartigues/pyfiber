{
 "cells": [
  {
   "cell_type": "code",
   "execution_count": 1,
   "id": "6896ae3e",
   "metadata": {
    "scrolled": false
   },
   "outputs": [
    {
     "name": "stdout",
     "output_type": "stream",
     "text": [
      "C:\\Users\\mceau\\Documents\\fiberphotopy\\fiberphotopy\n"
     ]
    }
   ],
   "source": [
    "%cd \"../fiberphotopy\""
   ]
  },
  {
   "cell_type": "code",
   "execution_count": 2,
   "id": "79b4850f",
   "metadata": {},
   "outputs": [],
   "source": [
    "import pandas as pd               # data management as \"dataframe\", ie basically table form\n",
    "import numpy as np                # math operation module based mostly on arrays (vectors conatining any type of data)\n",
    "import matplotlib.pyplot as plt   # plotting library\n",
    "import os                         # module to interact with the system (ie browsing files on the computer and getting paths)\n",
    "import datetime                   # time"
   ]
  },
  {
   "cell_type": "markdown",
   "id": "68d3cf29",
   "metadata": {},
   "source": [
    "# I. Reading .dat files\n",
    "Pandas 'read_csv' function. Skip the 12 first rows that don't contain tabular data. Separator (sep=) is ',' by default, so you need to change it to '\\t' (tab).\n",
    "\n",
    "For clarity, it's best to change the header names. You can find them in the Imetronic manuals.\n",
    "\n",
    "+ 'TIME': timestamps\n",
    "+ 'F' and 'ID' are the two numbers that identify the time of information (ie. 2 1 is Lever 1 (L1)).\n",
    "+ '_P','_V','_L','_R','_T','_W','_X','_Y','_Z' are the variables that give different information depending on the category of information."
   ]
  },
  {
   "cell_type": "code",
   "execution_count": null,
   "id": "911871f8",
   "metadata": {},
   "outputs": [],
   "source": [
    "df = pd.read_csv('../../DATA/lever/J43sac/bsa01042022s1c01_01.dat',sep='\\t',\n",
    "                 skiprows=12,header=None,names=['TIME','F','ID','_P','_V','_L','_R','_T','_W','_X','_Y','_Z'])\n",
    "df"
   ]
  },
  {
   "cell_type": "markdown",
   "id": "9ac01085",
   "metadata": {},
   "source": [
    "# II. Extracting relevant information\n",
    "Here we are mainly interested in 4 types of informations:\n",
    "\n",
    "1. saccharine administration, coded as injections (6,1)\n",
    "2. nosepokes (3,1)\n",
    "3. levers: (2,1) whether they are in or out, when there are lever presses (and what is the status of the lever in when pressed)\n",
    "4. licks: (5,1) start and end of of licking periods and duration\n",
    "\n",
    "As you'll see, apart from a few necessary modifications, the main idea behind extracting is the same across all types of data, which means you should be able to expand and adapt these pieces of code to anything related to Imetronic .dat file extraction and visualization (+/- analysis on which I will not expand).\n",
    "\n",
    "*NB: Some words about nomenclature. There will be a lot of created variables so I'll stay consistent with the names. Every dataframe or dataframe slice will be named* **df_{something}**, *every list of events will be named* **{lower_case_description}** *whereas intervals will be named* **{DESCRIPTION_IN_ALL_CAPS}**."
   ]
  },
  {
   "cell_type": "markdown",
   "id": "a75fc8b8",
   "metadata": {},
   "source": [
    "## II.1 Administration\n",
    "We will first look at a \"slice\" of the dataframe, by selecting only the rows where (F,ID) = (6,1), *i.e.* \"injections."
   ]
  },
  {
   "cell_type": "code",
   "execution_count": null,
   "id": "a18f836f",
   "metadata": {},
   "outputs": [],
   "source": [
    "df_adm = df[(df['F']==6) & (df['ID']==1)]\n",
    "df_adm"
   ]
  },
  {
   "cell_type": "code",
   "execution_count": null,
   "id": "99943565",
   "metadata": {},
   "outputs": [],
   "source": [
    "administrations = df_adm['TIME'].values/1000"
   ]
  },
  {
   "cell_type": "markdown",
   "id": "b7006df3",
   "metadata": {},
   "source": [
    "We'll use our first plotting function **eventplot**, to visualize the events:"
   ]
  },
  {
   "cell_type": "code",
   "execution_count": null,
   "id": "d702a194",
   "metadata": {},
   "outputs": [],
   "source": [
    "plt.figure(figsize=(20,5))\n",
    "plt.eventplot(administrations)"
   ]
  },
  {
   "cell_type": "markdown",
   "id": "b88e036f",
   "metadata": {},
   "source": [
    "## II.2 Nosepokes"
   ]
  },
  {
   "cell_type": "code",
   "execution_count": null,
   "id": "d997a59b",
   "metadata": {},
   "outputs": [],
   "source": [
    "df_nosepokes = df[(df['F']==3) & (df['ID']==1)] #same procedure\n",
    "df_nosepokes"
   ]
  },
  {
   "cell_type": "code",
   "execution_count": null,
   "id": "4cdc58bf",
   "metadata": {},
   "outputs": [],
   "source": [
    "nosepokes = df_nosepokes['TIME'].values/1000"
   ]
  },
  {
   "cell_type": "code",
   "execution_count": null,
   "id": "4fb9fcba",
   "metadata": {},
   "outputs": [],
   "source": [
    "plt.figure(figsize=(20,5))\n",
    "plt.eventplot(nosepokes)"
   ]
  },
  {
   "cell_type": "markdown",
   "id": "278d5d1c",
   "metadata": {},
   "source": [
    "## II.3 Levers"
   ]
  },
  {
   "cell_type": "code",
   "execution_count": null,
   "id": "1074aa8d",
   "metadata": {},
   "outputs": [],
   "source": [
    "df_levers = df[(df['F']==2) & (df['ID']==1)]"
   ]
  },
  {
   "cell_type": "markdown",
   "id": "ece55bfe",
   "metadata": {},
   "source": [
    "The information about whether the lever is in or out is coded by the '_P' column, 1 if out, 0 if in."
   ]
  },
  {
   "cell_type": "markdown",
   "id": "8966ef19",
   "metadata": {},
   "source": [
    "### II.3.a lever status\n",
    "Now we are interested in knowing when the lever is retracted vs when it is out. There isn't a clear coding for this very information. However, every 'lever message' conatins information about the lever's status. Thus, by using a function that account for the possible redundancy of the information, we can determine the status of the lever.\n",
    "\n",
    "Additionnally, we wille extract the end of the session (last timestamp of the .dat file) which will be useful for intervals and for plotting."
   ]
  },
  {
   "cell_type": "code",
   "execution_count": null,
   "id": "728dfab7",
   "metadata": {},
   "outputs": [],
   "source": [
    "lever_out_info = df_levers[(df_levers['_P'] == 1)]['TIME'].values/1000 #the timestamps are extracted and converted from ms to s\n",
    "lever_in_info  = df_levers[(df_levers['_P'] == 0)]['TIME'].values/1000\n",
    "session_end    = list(df['TIME'])[-1]/1000"
   ]
  },
  {
   "cell_type": "code",
   "execution_count": null,
   "id": "fc99f1b0",
   "metadata": {},
   "outputs": [],
   "source": [
    "# the following function take a list of on and off messages and outputs the resulting intervals,\n",
    "# taking into account multiple consecutive identical commands\n",
    "def _interval(on,off,end):\n",
    "    on  = list(set([i for i in on if i not in off]))\n",
    "    off = list(set([i for i in off if i not in on]))\n",
    "    on_series = pd.Series([1]*len(set(on)),index=on,dtype='float64')\n",
    "    off_series = pd.Series([0]*len(set(off)),index=off,dtype='float64')\n",
    "    s = pd.concat((on_series,off_series)).sort_index()\n",
    "    status, intervals, current = 0, [], [None,None]\n",
    "    for n in s.index:\n",
    "        if status == 0 and s[n] == 1:\n",
    "            status = 1\n",
    "            current[0] = n\n",
    "        if status == 1 and s[n] == 0:\n",
    "            status = 0\n",
    "            current[1] = n\n",
    "            intervals.append(current)\n",
    "            current = [None,None]\n",
    "    if current != [None,None]:\n",
    "        current[1] = end\n",
    "        intervals.append(current)\n",
    "    return [tuple(i) for i in intervals if i[0]-i[1] != 0]\n",
    "\n",
    "# ex: \n",
    "on_commands  = [10,30,50,65]\n",
    "off_commands = [15,35,55]\n",
    "end_time     = 100\n",
    "_interval(on_commands,off_commands,end_time)"
   ]
  },
  {
   "cell_type": "markdown",
   "id": "ba04a02a",
   "metadata": {},
   "source": [
    "LEVER_OUT = _interval(lever_out_info,lever_in_info,session_end)\n",
    "LEVER_OUT"
   ]
  },
  {
   "cell_type": "markdown",
   "id": "bfcd0429",
   "metadata": {},
   "source": [
    "We'll now use **axvspan**, the second plotting function we will need."
   ]
  },
  {
   "cell_type": "code",
   "execution_count": null,
   "id": "33fa9b3f",
   "metadata": {},
   "outputs": [],
   "source": [
    "plt.figure(figsize=(20,5))\n",
    "plt.eventplot(lever_out_info,lineoffsets=0,linewidths=0.5) #used for timestamps\n",
    "plt.eventplot(lever_in_info,lineoffsets=1,colors='r',linewidths=0.5)\n",
    "for a,b in LEVER_OUT:\n",
    "    plt.axvspan(a,b,color='gray',alpha=0.5)\n",
    "plt.xlim((0,session_end))"
   ]
  },
  {
   "cell_type": "markdown",
   "id": "7578df52",
   "metadata": {},
   "source": [
    "### II.3.b lever presses\n",
    "Lever presses are contained in the same section fo the dataframe. We have to take a more precise selection: '_V' must be equal to 1, signifying that the lever is being 'visited'. Additionnally, '_L', the number of presses since the start of the current line of the exercise must be different than 0 (the logic behind it is mysterious but we tested and confirmed this with Jeff by comparing the results from Imetronic extraction to my extraction with this final condiftion)."
   ]
  },
  {
   "cell_type": "code",
   "execution_count": null,
   "id": "cfa0f45d",
   "metadata": {},
   "outputs": [],
   "source": [
    "## visits / lever out\n",
    "lever_press_out = df_levers[(df_levers['_V'] == 1) & (df_levers['_P'] == 1) & (df_levers['_L'] != 0)]['TIME'].values/1000\n",
    "# visits / lever in\n",
    "lever_press_in = df_levers[(df_levers['_V'] == 1) & (df_levers['_P'] == 0) & (df_levers['_L'] != 0)]['TIME'].values/1000"
   ]
  },
  {
   "cell_type": "markdown",
   "id": "9d45fbb5",
   "metadata": {},
   "source": [
    "## II.4 Licks"
   ]
  },
  {
   "cell_type": "code",
   "execution_count": null,
   "id": "66c12683",
   "metadata": {},
   "outputs": [],
   "source": [
    "df_licks         = df[(df['F']==5) & (df['ID']==1)] #same as before, datframe with only 'lick-related' data\n",
    "lick_start       = df_licks[df_licks['_V']==1]['TIME'].values/1000\n",
    "lick_end         = df_licks[df_licks['_V']==0]['TIME'].values/1000\n",
    "LICKING          = _interval(lick_start,lick_end,session_end) #same function as before\n",
    "licking_duration = np.array([b-a for a,b in LICKING])\n",
    "\n",
    "plt.figure(figsize=(20,5))\n",
    "plt.eventplot(lick_start,lineoffsets=0,linewidths=0.5) #used for timestamps\n",
    "plt.eventplot(lick_end,lineoffsets=1,colors='r',linewidths=0.5)\n",
    "for a,b in LICKING:\n",
    "    plt.axvspan(a,b,color='gray',alpha=0.5)\n",
    "plt.xlim((0,session_end))"
   ]
  },
  {
   "cell_type": "markdown",
   "id": "2edb81db",
   "metadata": {},
   "source": [
    "The third and final plotting function **bar**, simply makes bar plots."
   ]
  },
  {
   "cell_type": "code",
   "execution_count": null,
   "id": "3662419a",
   "metadata": {},
   "outputs": [],
   "source": [
    "plt.bar(lick_start, licking_duration)"
   ]
  },
  {
   "cell_type": "markdown",
   "id": "b32046db",
   "metadata": {},
   "source": [
    "# III. Putting everything in a function (or two)\n",
    "\n",
    "Now that you understand all the steps, you need to find a way to automatize them by including them all in a function.\n",
    "\n",
    "This way, with any .dat filename, you can immediately obtain the graph we want."
   ]
  },
  {
   "cell_type": "code",
   "execution_count": null,
   "id": "8be2ad2d",
   "metadata": {},
   "outputs": [],
   "source": [
    "def _plot(filename,ax,title):\n",
    "        \n",
    "    # READING THE DAT FILE\n",
    "    df             = pd.read_csv(filename,sep='\\t',skiprows=12,header=None,\n",
    "                                 names=['TIME','F','ID','_P','_V','_L','_R','_T','_W','_X','_Y','_Z'])\n",
    "    session_end    = list(df['TIME'])[-1]/1000\n",
    "    \n",
    "    # EXTRACTING ALL THE DATA\n",
    "    #administrations\n",
    "    df_adm           = df[(df['F']==6) & (df['ID']==1)]\n",
    "    administrations  = df_adm['TIME'].values/1000\n",
    "    #nosepokes\n",
    "    df_nosepokes     = df[(df['F']==3) & (df['ID']==1)]\n",
    "    nosepokes        = df_nosepokes['TIME'].values/1000\n",
    "    #levers\n",
    "    df_levers        = df[(df['F']==2) & (df['ID']==1)]\n",
    "    lever_out_info   = df_levers[(df_levers['_P'] == 1)]['TIME'].values/1000 \n",
    "    lever_in_info    = df_levers[(df_levers['_P'] == 0)]['TIME'].values/1000\n",
    "    lever_press_out  = df_levers[(df_levers['_V'] == 1) & (df_levers['_P'] == 1) & (df_levers['_L'] != 0)]['TIME'].values/1000\n",
    "    lever_press_in   = df_levers[(df_levers['_V'] == 1) & (df_levers['_P'] == 0) & (df_levers['_L'] != 0)]['TIME'].values/1000\n",
    "    LEVER_OUT        = _interval(lever_out_info,lever_in_info,session_end) #remember you need the _interval function\n",
    "    #licks\n",
    "    df_licks         = df[(df['F']==5) & (df['ID']==1)]\n",
    "    lick_start       = df_licks[df_licks['_V']==1]['TIME'].values/1000\n",
    "    lick_end         = df_licks[df_licks['_V']==0]['TIME'].values/1000\n",
    "    LICKING          = _interval(lick_start,lick_end,session_end)\n",
    "    licking_duration = np.array([b-a for a,b in LICKING])\n",
    "    \n",
    "    # PLOTTING\n",
    "    # lever intervals\n",
    "    for n,(a,b) in enumerate(LEVER_OUT):\n",
    "        ax.axvspan(a,b,alpha=0.5,color='gray',label='_'*n+'Lever Out')\n",
    "    # licks\n",
    "    ax.bar(lick_start, licking_duration,label='Licking Time',width=1,color='mediumblue')\n",
    "    ax.eventplot(lick_start,lineoffsets=-0.3,linelengths=0.5,linewidths=0.6,color='b',label='Licks')\n",
    "    # levers\n",
    "    ax.eventplot(lever_press_in,  lineoffsets=-1.2, linelengths=1, linewidths=0.5, color='purple',    label='Lever Press (in)')\n",
    "    ax.eventplot(lever_press_out, lineoffsets=-1.2, linelengths=1, linewidths=0.5, color='darkgreen', label='Lever Press (out)')\n",
    "    # adlinistration\n",
    "    ax.eventplot(administrations, lineoffsets=-2.2, linelengths=1, linewidths=0.5, color='k',         label='Administration')\n",
    "    # nosepokes\n",
    "    ax.eventplot(nosepokes,       lineoffsets=-3.2, linelengths=1, linewidths=0.5, color='r',         label='Nose Pokes')\n",
    "    \n",
    "    ax.set_ylim((-3.7,licking_duration.max()))\n",
    "    ax.set_ylabel('(seconds)')\n",
    "    ax.set_xlabel('(seconds)')\n",
    "    ax.set_title(title)\n",
    "    ax.legend(loc='upper right')"
   ]
  },
  {
   "cell_type": "code",
   "execution_count": null,
   "id": "da28527e",
   "metadata": {},
   "outputs": [],
   "source": [
    "fig,ax1 = plt.subplots(1,figsize=(40,10))\n",
    "_plot(filename='../../DATA/lever/J43sac/bsa01042022s1c01_01.dat',\n",
    "      ax=ax1,\n",
    "      title='Test title')"
   ]
  },
  {
   "cell_type": "markdown",
   "id": "a59db343",
   "metadata": {},
   "source": [
    "# IV. Applying the function to multiple files at once\n",
    "*ie.* \"putting the function in a function\"\n",
    "\n",
    "Now that you are able to plot one session, it would be nice to be able to plot multiple sessions all at once.\n",
    "\n",
    "To do that, the simplest way is to group the files in a folder structure as follows:\n",
    "\n",
    "MAIN FOLDER\n",
    "- SESSION 10\n",
    "    + bsaxxxxxxxc12\n",
    "    + bsaxxxxxxxc23\n",
    "    + ...\n",
    "- SESSION 11\n",
    "    + ...\n",
    "- ...\n",
    "\n",
    "Additionally, to automatically assign a rat name to a folder based on the cage number, you should create a correspondance dictionnary, see below.\n",
    "\n",
    "*NB: As the following information extraction techniques are solely based on file nomenclature (as there is currently no session metadata inside the datfile), this nomenclature shoudld stay consistent (date order, underscores, etc.)*"
   ]
  },
  {
   "cell_type": "markdown",
   "id": "330ff8b2",
   "metadata": {},
   "source": [
    "## IV.1 Metadata extraction"
   ]
  },
  {
   "cell_type": "markdown",
   "id": "40a47d81",
   "metadata": {},
   "source": [
    "datafolder = \"../../DATA/lever/\"                # where the information si located\n",
    "imagefolder = \"../../DATA/graphical_summaries/\" # to save pictures"
   ]
  },
  {
   "cell_type": "code",
   "execution_count": null,
   "id": "1f6c0153",
   "metadata": {},
   "outputs": [],
   "source": [
    "# correspondance dictionnary\n",
    "correspondance = {'rat 2' : 1,\n",
    "                  'rat 10': 2,\n",
    "                  'rat 11': 3,\n",
    "                  'rat 14': 4,\n",
    "                  'rat 31': 6,\n",
    "                  'rat 32': 7,\n",
    "                  'rat 39': 8}"
   ]
  },
  {
   "cell_type": "code",
   "execution_count": null,
   "id": "f9a8be6e",
   "metadata": {},
   "outputs": [],
   "source": [
    "paths = [datafolder+folder+'/'+i for folder in os.listdir(datafolder) for i in os.listdir(datafolder+folder)]\n",
    "paths[:2]"
   ]
  },
  {
   "cell_type": "code",
   "execution_count": null,
   "id": "b566d60c",
   "metadata": {},
   "outputs": [],
   "source": [
    "names = [i.split('/')[-1].split('.dat')[0] for i in paths]\n",
    "names[:2]"
   ]
  },
  {
   "cell_type": "code",
   "execution_count": null,
   "id": "8bc946a8",
   "metadata": {},
   "outputs": [],
   "source": [
    "dates = [datetime.datetime(day=int(a[3:5]),month=int(a[5:7]),year=int(a[7:11])) for a in names]\n",
    "dates[:2]"
   ]
  },
  {
   "cell_type": "code",
   "execution_count": null,
   "id": "60a8e3b0",
   "metadata": {},
   "outputs": [],
   "source": [
    "cages = [int(i.split('c')[-1].split('_')[0]) for i in names]\n",
    "cages[:2]"
   ]
  },
  {
   "cell_type": "code",
   "execution_count": null,
   "id": "88acc43f",
   "metadata": {},
   "outputs": [],
   "source": [
    "df = pd.DataFrame({'name' : names,\n",
    "                   'cage' : cages,\n",
    "                   'date' : dates,\n",
    "                   'path' : paths})\n",
    "df"
   ]
  },
  {
   "cell_type": "markdown",
   "id": "d6f3ba5d",
   "metadata": {},
   "source": [
    "## IV.2 Multi-plotting"
   ]
  },
  {
   "cell_type": "code",
   "execution_count": null,
   "id": "705eb2bd",
   "metadata": {},
   "outputs": [],
   "source": [
    "def multiplot(data_folder,image_folder,correspondance_dict,by='cage'):\n",
    "    # Metadata extraction\n",
    "    paths = [data_folder+folder+'/'+i for folder in os.listdir(data_folder) for i in os.listdir(data_folder+folder)]\n",
    "    names = [i.split('/')[-1].split('.dat')[0] for i in paths]\n",
    "    dates = [datetime.datetime(day=int(a[3:5]),month=int(a[5:7]),year=int(a[7:11])) for a in names]\n",
    "    cages = [int(i.split('c')[-1].split('_')[0]) for i in names]\n",
    "    df = pd.DataFrame({'name' : names,\n",
    "                       'cage' : cages,\n",
    "                       'date' : dates,\n",
    "                       'path' : paths})\n",
    "    \n",
    "    if by == 'cage': df.sort_values(['cage','date'],inplace=True)\n",
    "    if by == 'date': df.sort_values(['date', 'cage'],inplace=True)\n",
    "    size = len(df)\n",
    "    fig,axes = plt.subplots(size,figsize=(40,10*size))\n",
    "\n",
    "    for n,i in enumerate(df.index):\n",
    "        name,cage,date,path = df.iloc[i,:]\n",
    "        rat = [a for a,b in correspondance_dict.items() if b == cage][0]\n",
    "        title = f\"{rat.upper()} (c{cage}) {str(date)[:10]} ({path})\"\n",
    "        _plot(path,title=title,ax=axes[n])\n",
    "    plt.savefig(image_folder+str(datetime.datetime.now())[:10]+'_'+by+'.png')\n",
    "    plt.savefig(image_folder+str(datetime.datetime.now())[:10]+'_'+by+'.svg',dpi=400)\n",
    "    plt.savefig(image_folder+str(datetime.datetime.now())[:10]+'_'+by+'.pdf',dpi=400)"
   ]
  },
  {
   "cell_type": "code",
   "execution_count": null,
   "id": "c5433089",
   "metadata": {},
   "outputs": [],
   "source": [
    "correspondance = {'rat 2' : 1,\n",
    "                  'rat 10': 2,\n",
    "                  'rat 11': 3,\n",
    "                  'rat 14': 4,\n",
    "                  'rat 31': 6,\n",
    "                  'rat 32': 7,\n",
    "                  'rat 39': 8}\n",
    "\n",
    "multiplot(data_folder         = \"../../DATA/lever/\",\n",
    "          image_folder        = \"../../DATA/graphical_summaries/\",\n",
    "          correspondance_dict = correspondance,\n",
    "          by='cage')"
   ]
  }
 ],
 "metadata": {
  "kernelspec": {
   "display_name": "Python 3 (ipykernel)",
   "language": "python",
   "name": "python3"
  },
  "language_info": {
   "codemirror_mode": {
    "name": "ipython",
    "version": 3
   },
   "file_extension": ".py",
   "mimetype": "text/x-python",
   "name": "python",
   "nbconvert_exporter": "python",
   "pygments_lexer": "ipython3",
   "version": "3.9.7"
  }
 },
 "nbformat": 4,
 "nbformat_minor": 5
}
