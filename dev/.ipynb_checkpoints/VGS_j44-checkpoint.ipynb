{
 "cells": [
  {
   "cell_type": "code",
   "execution_count": 1,
   "id": "2b1bf752",
   "metadata": {},
   "outputs": [
    {
     "name": "stdout",
     "output_type": "stream",
     "text": [
      "C:\\Users\\mceau\\Documents\\fiberphotopy\\fiberphotopy\n"
     ]
    }
   ],
   "source": [
    "%cd \"../fiberphotopy\""
   ]
  },
  {
   "cell_type": "code",
   "execution_count": 2,
   "id": "52398e25",
   "metadata": {},
   "outputs": [],
   "source": [
    "import fiber_data\n",
    "import behavioral_data\n",
    "import fp_utils\n",
    "import analysis\n",
    "import importlib\n",
    "import pandas as pd\n",
    "import numpy as np\n",
    "import matplotlib.pyplot as plt\n",
    "\n",
    "def rel():\n",
    "    for i in [fp_utils,analysis,fiber_data,behavioral_data]:\n",
    "        importlib.reload(i)\n",
    "rel()"
   ]
  },
  {
   "cell_type": "code",
   "execution_count": 3,
   "id": "0b309321",
   "metadata": {
    "scrolled": true
   },
   "outputs": [
    {
     "name": "stdout",
     "output_type": "stream",
     "text": [
      "\n",
      "Importing folder r11...\n",
      "Importing ../../DATA/J44/r11/bsa_rec1_rat1120220401c20_01.dat...\n",
      "Importing of ../../DATA/J44/r11/bsa_rec1_rat1120220401c20_01.dat finished in 0.07695364952087402 seconds\n",
      "Analyzing peaks...\n"
     ]
    },
    {
     "name": "stderr",
     "output_type": "stream",
     "text": [
      "C:\\Users\\mceau\\Anaconda3\\lib\\site-packages\\numpy\\core\\fromnumeric.py:3419: RuntimeWarning: Mean of empty slice.\n",
      "  return _methods._mean(a, axis=axis, dtype=dtype,\n",
      "C:\\Users\\mceau\\Anaconda3\\lib\\site-packages\\numpy\\core\\_methods.py:188: RuntimeWarning: invalid value encountered in double_scalars\n",
      "  ret = ret.dtype.type(ret / rcount)\n"
     ]
    },
    {
     "name": "stdout",
     "output_type": "stream",
     "text": [
      "Importing of ../../DATA/J44/r11/AS21RSAxbaselineRat11_01042022_0.csv finished in 3.8197765350341797 seconds\n",
      "\n",
      "Importing folder r12...\n",
      "Importing ../../DATA/J44/r12/bsa_rec3_rat1220220401c20_01.dat...\n",
      "Importing of ../../DATA/J44/r12/bsa_rec3_rat1220220401c20_01.dat finished in 0.035977840423583984 seconds\n",
      "Analyzing peaks...\n",
      "Importing of ../../DATA/J44/r12/AS21RSAxbaseline_Rat12_01042022_0.csv finished in 3.7637197971343994 seconds\n",
      "\n",
      "Importing folder r5...\n",
      "Importing ../../DATA/J44/r5/bsa_rec2_rat520220401c20_01.dat...\n",
      "Importing of ../../DATA/J44/r5/bsa_rec2_rat520220401c20_01.dat finished in 0.0359797477722168 seconds\n",
      "Analyzing peaks...\n",
      "Importing of ../../DATA/J44/r5/AS21RSAxbaseline_Rat5_01042022_0.csv finished in 3.8196842670440674 seconds\n",
      "Importing ../../DATA/J44\\r11\\bsa_rec1_rat1120220401c20_01.dat...\n",
      "Importing of ../../DATA/J44\\r11\\bsa_rec1_rat1120220401c20_01.dat finished in 0.07195687294006348 seconds\n",
      "Importing ../../DATA/J44\\r12\\bsa_rec3_rat1220220401c20_01.dat...\n",
      "Importing of ../../DATA/J44\\r12\\bsa_rec3_rat1220220401c20_01.dat finished in 0.033979177474975586 seconds\n",
      "Importing ../../DATA/J44\\r5\\bsa_rec2_rat520220401c20_01.dat...\n",
      "Importing of ../../DATA/J44\\r5\\bsa_rec2_rat520220401c20_01.dat finished in 0.03597831726074219 seconds\n",
      "Extraction finished, 6 files in 12.265658140182495 seconds\n"
     ]
    }
   ],
   "source": [
    "vgbz = analysis.MultiSession('../../DATA/J44')"
   ]
  },
  {
   "cell_type": "markdown",
   "id": "d027a963",
   "metadata": {},
   "source": [
    "# BEHAVIOR"
   ]
  },
  {
   "cell_type": "markdown",
   "id": "ae8f3d02",
   "metadata": {},
   "source": [
    "## SUMMARY"
   ]
  },
  {
   "cell_type": "markdown",
   "id": "c92f45a3",
   "metadata": {},
   "source": [
    "### VGB 11"
   ]
  },
  {
   "cell_type": "code",
   "execution_count": 4,
   "id": "d5538c11",
   "metadata": {},
   "outputs": [
    {
     "name": "stderr",
     "output_type": "stream",
     "text": [
      "No handles with labels found to put in legend.\n",
      "No handles with labels found to put in legend.\n"
     ]
    },
    {
     "data": {
      "image/png": "[encoded data removed]",
      "text/plain": [
       "<Figure size 1440x518.4 with 9 Axes>"
      ]
     },
     "metadata": {
      "needs_background": "light"
     },
     "output_type": "display_data"
    }
   ],
   "source": [
    "vgbz.rat_sessions['r11'].behavior.summary()"
   ]
  },
  {
   "cell_type": "markdown",
   "id": "526142c1",
   "metadata": {},
   "source": [
    "### VGB 5"
   ]
  },
  {
   "cell_type": "code",
   "execution_count": 5,
   "id": "cb7e90f1",
   "metadata": {},
   "outputs": [
    {
     "ename": "KeyError",
     "evalue": "'vr5'",
     "output_type": "error",
     "traceback": [
      "\u001b[1;31m---------------------------------------------------------------------------\u001b[0m",
      "\u001b[1;31mKeyError\u001b[0m                                  Traceback (most recent call last)",
      "\u001b[1;32m~\\AppData\\Local\\Temp/ipykernel_1912/3238772503.py\u001b[0m in \u001b[0;36m<module>\u001b[1;34m\u001b[0m\n\u001b[1;32m----> 1\u001b[1;33m \u001b[0mvgbz\u001b[0m\u001b[1;33m.\u001b[0m\u001b[0mrat_sessions\u001b[0m\u001b[1;33m[\u001b[0m\u001b[1;34m'vr5'\u001b[0m\u001b[1;33m]\u001b[0m\u001b[1;33m.\u001b[0m\u001b[0mbehavior\u001b[0m\u001b[1;33m.\u001b[0m\u001b[0msummary\u001b[0m\u001b[1;33m(\u001b[0m\u001b[1;33m)\u001b[0m\u001b[1;33m\u001b[0m\u001b[1;33m\u001b[0m\u001b[0m\n\u001b[0m",
      "\u001b[1;31mKeyError\u001b[0m: 'vr5'"
     ]
    }
   ],
   "source": [
    "vgbz.rat_sessions['r5'].behavior.summary()"
   ]
  },
  {
   "cell_type": "markdown",
   "id": "24437187",
   "metadata": {},
   "source": [
    "### VGB 12"
   ]
  },
  {
   "cell_type": "code",
   "execution_count": null,
   "id": "9d838bc0",
   "metadata": {},
   "outputs": [],
   "source": [
    "vgbz.rat_sessions['r12'].behavior.summary()"
   ]
  },
  {
   "cell_type": "markdown",
   "id": "7b84d25d",
   "metadata": {},
   "source": [
    "## ACTIVE NOSEPOKES"
   ]
  },
  {
   "cell_type": "code",
   "execution_count": null,
   "id": "ac1b884c",
   "metadata": {
    "scrolled": false
   },
   "outputs": [],
   "source": [
    "vgbz.compare_behavior('np1')"
   ]
  },
  {
   "cell_type": "code",
   "execution_count": null,
   "id": "d0d56286",
   "metadata": {},
   "outputs": [],
   "source": [
    "vgbz.multibehavior.show_rate('np1',binsize=60,percentiles=False) # NPA/min"
   ]
  },
  {
   "cell_type": "markdown",
   "id": "3cad7e9c",
   "metadata": {},
   "source": [
    "## INACTIVE NOSEPOKES"
   ]
  },
  {
   "cell_type": "code",
   "execution_count": null,
   "id": "54433ee4",
   "metadata": {
    "scrolled": false
   },
   "outputs": [],
   "source": [
    "vgbz.compare_behavior('np2')"
   ]
  },
  {
   "cell_type": "code",
   "execution_count": null,
   "id": "78f2c11b",
   "metadata": {},
   "outputs": [],
   "source": [
    "vgbz.multibehavior.show_rate('np2',binsize=60,percentiles=False) # NPB/min"
   ]
  },
  {
   "cell_type": "markdown",
   "id": "2e05fec4",
   "metadata": {},
   "source": [
    "## INJECTIONS"
   ]
  },
  {
   "cell_type": "code",
   "execution_count": null,
   "id": "a1a9a657",
   "metadata": {
    "scrolled": false
   },
   "outputs": [],
   "source": [
    "vgbz.compare_behavior('inj1')"
   ]
  },
  {
   "cell_type": "code",
   "execution_count": null,
   "id": "0f6ab5f0",
   "metadata": {},
   "outputs": [],
   "source": [
    "vgbz.multibehavior.show_rate('inj1',binsize=300,percentiles=False) # inj/5min"
   ]
  },
  {
   "cell_type": "markdown",
   "id": "7cbfd622",
   "metadata": {},
   "source": [
    "# PERIEVENT"
   ]
  },
  {
   "cell_type": "markdown",
   "id": "b8f8d51f",
   "metadata": {},
   "source": [
    "## SWITCH DRUG TO NO DRUG"
   ]
  },
  {
   "cell_type": "code",
   "execution_count": null,
   "id": "dbe041ae",
   "metadata": {
    "scrolled": false
   },
   "outputs": [],
   "source": [
    "vgbz.analyze(\"switch_d_nd\").plot(alpha=0.8,label=True)"
   ]
  },
  {
   "cell_type": "code",
   "execution_count": null,
   "id": "9ca4ced7",
   "metadata": {},
   "outputs": [],
   "source": [
    "fifo = vgbz.analyze(\"switch_d_nd\")\n",
    "pd.DataFrame({key: fifo.__dict__[key] for key in ['preAVG_Z', 'postAVG_Z', 'preAVG_RZ', 'postAVG_RZ', 'pre_raw_AUC', 'post_raw_AUC', 'preAUC', 'postAUC', 'preZ_AUC', 'postZ_AUC', 'preRZ_AUC', 'postRZ_AUC']},\n",
    "index= fifo.__dict__['rat_sessions'])"
   ]
  },
  {
   "cell_type": "markdown",
   "id": "cac84687",
   "metadata": {},
   "source": [
    "# PEAKS"
   ]
  },
  {
   "cell_type": "code",
   "execution_count": null,
   "id": "3bacebf5",
   "metadata": {
    "scrolled": true
   },
   "outputs": [],
   "source": [
    "rats = ['r11','r5','r12']\n",
    "df = pd.concat([pd.DataFrame({k:pd.Series(v) for k,v in vgbz.rat_sessions[r].fiber.peakFA(2350,3295).items() if type(v)==float}) for r in rats])\n",
    "df.index = rats\n",
    "df"
   ]
  },
  {
   "cell_type": "markdown",
   "id": "a982e9be",
   "metadata": {},
   "source": [
    "### VGB11 : all detected peaks"
   ]
  },
  {
   "cell_type": "code",
   "execution_count": null,
   "id": "961ec639",
   "metadata": {},
   "outputs": [],
   "source": [
    "vgbz.rat_sessions['r11'].fiber.plot_transients()\n",
    "plt.ylim((0,7))"
   ]
  },
  {
   "cell_type": "markdown",
   "id": "2197d105",
   "metadata": {},
   "source": [
    "### VGB5 : all detected peaks"
   ]
  },
  {
   "cell_type": "code",
   "execution_count": null,
   "id": "c2011b80",
   "metadata": {},
   "outputs": [],
   "source": [
    "vgbz.rat_sessions['r5'].fiber.plot_transients()\n",
    "plt.ylim((0,7))"
   ]
  },
  {
   "cell_type": "markdown",
   "id": "8cd8e600",
   "metadata": {},
   "source": [
    "### VGB12 : all detected peaks"
   ]
  },
  {
   "cell_type": "code",
   "execution_count": null,
   "id": "b0ec5a28",
   "metadata": {},
   "outputs": [],
   "source": [
    "vgbz.rat_sessions['r12'].fiber.plot_transients()\n",
    "plt.ylim((0,7))"
   ]
  },
  {
   "cell_type": "code",
   "execution_count": null,
   "id": "1194caca",
   "metadata": {},
   "outputs": [],
   "source": []
  }
 ],
 "metadata": {
  "kernelspec": {
   "display_name": "Python 3 (ipykernel)",
   "language": "python",
   "name": "python3"
  },
  "language_info": {
   "codemirror_mode": {
    "name": "ipython",
    "version": 3
   },
   "file_extension": ".py",
   "mimetype": "text/x-python",
   "name": "python",
   "nbconvert_exporter": "python",
   "pygments_lexer": "ipython3",
   "version": "3.9.7"
  }
 },
 "nbformat": 4,
 "nbformat_minor": 5
}
